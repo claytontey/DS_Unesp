{
 "cells": [
  {
   "cell_type": "markdown",
   "metadata": {
    "colab_type": "text",
    "id": "WvMflodMjQKe"
   },
   "source": [
    "***\n",
    "# <font color=blue size=10>Exercícios</font>\n",
    "***\n",
    "\n",
    "## Exercícios Estatística\n",
    "\n",
    "Utilizando os conhecimentos adquiridos em nosso treinamento realize uma análise descritiva básica de um conjunto de dados retirados da Pesquisa Nacional por Amostra de Domicílios mais atual que a utilizada em nossos experimentos.\n",
    "\n",
    "Vamos construir histogramas, calcular e avaliar medidas de tendência central, medidas separatrizes e de dispersão dos dados.\n",
    "\n",
    "Siga o roteiro proposto e vá completando as células vazias. Procure pensar em mais informações interessantes que podem ser exploradas em nosso dataset.\n",
    "\n"
   ]
  },
  {
   "cell_type": "markdown",
   "metadata": {
    "colab_type": "text",
    "id": "cVgsZ_E3jQKg"
   },
   "source": [
    "# <font color=blue>DATASET DO PROJETO</font>\n",
    "***"
   ]
  },
  {
   "cell_type": "markdown",
   "metadata": {
    "colab_type": "text",
    "id": "iN1gIbaKjQKh"
   },
   "source": [
    "### Pesquisa Nacional por Amostra de Domicílios - 2015\n",
    "\n",
    "A <b>Pesquisa Nacional por Amostra de Domicílios - PNAD</b> investiga anualmente, de forma permanente, características gerais da população, de educação, trabalho, rendimento e habitação e outras, com periodicidade variável, de acordo com as necessidades de informação para o país, como as características sobre migração, fecundidade, nupcialidade, saúde, segurança alimentar, entre outros temas. O levantamento dessas estatísticas constitui, ao longo dos 49 anos de realização da pesquisa, um importante instrumento para formulação, validação e avaliação de políticas orientadas para o desenvolvimento socioeconômico e a melhoria das condições de vida no Brasil."
   ]
  },
  {
   "cell_type": "markdown",
   "metadata": {
    "colab_type": "text",
    "id": "ZIqLOffNTg1Y"
   },
   "source": [
    "***\n",
    "***"
   ]
  },
  {
   "cell_type": "markdown",
   "metadata": {
    "colab_type": "text",
    "id": "8Rw70V6ojQKk"
   },
   "source": [
    "### Utilize a célula abaixo para importar as biblioteca que precisar para executar as tarefas\n",
    "#### <font color='red'>Sugestões: pandas, numpy, seaborn</font>"
   ]
  },
  {
   "cell_type": "code",
   "execution_count": 4,
   "metadata": {
    "colab": {},
    "colab_type": "code",
    "id": "fcTgimHBybMz"
   },
   "outputs": [],
   "source": [
    "import pandas as pd\n",
    "import numpy as np\n",
    "import os\n",
    "import sys\n",
    "import matplotlib.pyplot as plt"
   ]
  },
  {
   "cell_type": "markdown",
   "metadata": {
    "colab_type": "text",
    "id": "2a-gvBvCULwt"
   },
   "source": [
    "### Importe o dataset e armazene o conteúdo em uma DataFrame"
   ]
  },
  {
   "cell_type": "code",
   "execution_count": 5,
   "metadata": {
    "colab": {},
    "colab_type": "code",
    "id": "ufRZ7TLwjQKo"
   },
   "outputs": [
    {
     "data": {
      "text/html": [
       "<div>\n",
       "<style scoped>\n",
       "    .dataframe tbody tr th:only-of-type {\n",
       "        vertical-align: middle;\n",
       "    }\n",
       "\n",
       "    .dataframe tbody tr th {\n",
       "        vertical-align: top;\n",
       "    }\n",
       "\n",
       "    .dataframe thead th {\n",
       "        text-align: right;\n",
       "    }\n",
       "</style>\n",
       "<table border=\"1\" class=\"dataframe\">\n",
       "  <thead>\n",
       "    <tr style=\"text-align: right;\">\n",
       "      <th></th>\n",
       "      <th>UF</th>\n",
       "      <th>Sexo</th>\n",
       "      <th>Idade</th>\n",
       "      <th>Cor</th>\n",
       "      <th>Anos de Estudo</th>\n",
       "      <th>Renda</th>\n",
       "      <th>Altura</th>\n",
       "    </tr>\n",
       "  </thead>\n",
       "  <tbody>\n",
       "    <tr>\n",
       "      <th>0</th>\n",
       "      <td>11</td>\n",
       "      <td>0</td>\n",
       "      <td>23</td>\n",
       "      <td>8</td>\n",
       "      <td>12</td>\n",
       "      <td>800</td>\n",
       "      <td>1.603808</td>\n",
       "    </tr>\n",
       "    <tr>\n",
       "      <th>1</th>\n",
       "      <td>11</td>\n",
       "      <td>1</td>\n",
       "      <td>23</td>\n",
       "      <td>2</td>\n",
       "      <td>12</td>\n",
       "      <td>1150</td>\n",
       "      <td>1.739790</td>\n",
       "    </tr>\n",
       "    <tr>\n",
       "      <th>2</th>\n",
       "      <td>11</td>\n",
       "      <td>1</td>\n",
       "      <td>35</td>\n",
       "      <td>8</td>\n",
       "      <td>15</td>\n",
       "      <td>880</td>\n",
       "      <td>1.760444</td>\n",
       "    </tr>\n",
       "    <tr>\n",
       "      <th>3</th>\n",
       "      <td>11</td>\n",
       "      <td>0</td>\n",
       "      <td>46</td>\n",
       "      <td>2</td>\n",
       "      <td>6</td>\n",
       "      <td>3500</td>\n",
       "      <td>1.783158</td>\n",
       "    </tr>\n",
       "    <tr>\n",
       "      <th>4</th>\n",
       "      <td>11</td>\n",
       "      <td>1</td>\n",
       "      <td>47</td>\n",
       "      <td>8</td>\n",
       "      <td>9</td>\n",
       "      <td>150</td>\n",
       "      <td>1.690631</td>\n",
       "    </tr>\n",
       "  </tbody>\n",
       "</table>\n",
       "</div>"
      ],
      "text/plain": [
       "   UF  Sexo  Idade  Cor  Anos de Estudo  Renda    Altura\n",
       "0  11     0     23    8              12    800  1.603808\n",
       "1  11     1     23    2              12   1150  1.739790\n",
       "2  11     1     35    8              15    880  1.760444\n",
       "3  11     0     46    2               6   3500  1.783158\n",
       "4  11     1     47    8               9    150  1.690631"
      ]
     },
     "execution_count": 5,
     "metadata": {},
     "output_type": "execute_result"
    }
   ],
   "source": [
    "dados = pd.read_csv('dados.csv')\n",
    "\n",
    "dados.head()"
   ]
  },
  {
   "cell_type": "markdown",
   "metadata": {
    "colab_type": "text",
    "id": "Oq3CKHCmTg1j"
   },
   "source": [
    "### Visualize o conteúdo do DataFrame"
   ]
  },
  {
   "cell_type": "code",
   "execution_count": 6,
   "metadata": {
    "colab": {},
    "colab_type": "code",
    "id": "GsC_WhLFjQKq",
    "scrolled": true
   },
   "outputs": [
    {
     "name": "stdout",
     "output_type": "stream",
     "text": [
      "<class 'pandas.core.frame.DataFrame'>\n",
      "RangeIndex: 76840 entries, 0 to 76839\n",
      "Data columns (total 7 columns):\n",
      " #   Column          Non-Null Count  Dtype  \n",
      "---  ------          --------------  -----  \n",
      " 0   UF              76840 non-null  int64  \n",
      " 1   Sexo            76840 non-null  int64  \n",
      " 2   Idade           76840 non-null  int64  \n",
      " 3   Cor             76840 non-null  int64  \n",
      " 4   Anos de Estudo  76840 non-null  int64  \n",
      " 5   Renda           76840 non-null  int64  \n",
      " 6   Altura          76840 non-null  float64\n",
      "dtypes: float64(1), int64(6)\n",
      "memory usage: 4.1 MB\n",
      "None\n"
     ]
    },
    {
     "data": {
      "text/html": [
       "<div>\n",
       "<style scoped>\n",
       "    .dataframe tbody tr th:only-of-type {\n",
       "        vertical-align: middle;\n",
       "    }\n",
       "\n",
       "    .dataframe tbody tr th {\n",
       "        vertical-align: top;\n",
       "    }\n",
       "\n",
       "    .dataframe thead th {\n",
       "        text-align: right;\n",
       "    }\n",
       "</style>\n",
       "<table border=\"1\" class=\"dataframe\">\n",
       "  <thead>\n",
       "    <tr style=\"text-align: right;\">\n",
       "      <th></th>\n",
       "      <th>UF</th>\n",
       "      <th>Sexo</th>\n",
       "      <th>Idade</th>\n",
       "      <th>Cor</th>\n",
       "      <th>Anos de Estudo</th>\n",
       "      <th>Renda</th>\n",
       "      <th>Altura</th>\n",
       "    </tr>\n",
       "  </thead>\n",
       "  <tbody>\n",
       "    <tr>\n",
       "      <th>count</th>\n",
       "      <td>76840.000000</td>\n",
       "      <td>76840.000000</td>\n",
       "      <td>76840.000000</td>\n",
       "      <td>76840.000000</td>\n",
       "      <td>76840.000000</td>\n",
       "      <td>76840.000000</td>\n",
       "      <td>76840.000000</td>\n",
       "    </tr>\n",
       "    <tr>\n",
       "      <th>mean</th>\n",
       "      <td>31.912962</td>\n",
       "      <td>0.307002</td>\n",
       "      <td>44.071421</td>\n",
       "      <td>5.032613</td>\n",
       "      <td>9.469664</td>\n",
       "      <td>2000.383199</td>\n",
       "      <td>1.699512</td>\n",
       "    </tr>\n",
       "    <tr>\n",
       "      <th>std</th>\n",
       "      <td>11.147830</td>\n",
       "      <td>0.461253</td>\n",
       "      <td>12.480583</td>\n",
       "      <td>2.857118</td>\n",
       "      <td>4.539929</td>\n",
       "      <td>3323.387730</td>\n",
       "      <td>0.079717</td>\n",
       "    </tr>\n",
       "    <tr>\n",
       "      <th>min</th>\n",
       "      <td>11.000000</td>\n",
       "      <td>0.000000</td>\n",
       "      <td>13.000000</td>\n",
       "      <td>0.000000</td>\n",
       "      <td>1.000000</td>\n",
       "      <td>0.000000</td>\n",
       "      <td>1.339245</td>\n",
       "    </tr>\n",
       "    <tr>\n",
       "      <th>25%</th>\n",
       "      <td>25.000000</td>\n",
       "      <td>0.000000</td>\n",
       "      <td>34.000000</td>\n",
       "      <td>2.000000</td>\n",
       "      <td>6.000000</td>\n",
       "      <td>788.000000</td>\n",
       "      <td>1.645785</td>\n",
       "    </tr>\n",
       "    <tr>\n",
       "      <th>50%</th>\n",
       "      <td>31.000000</td>\n",
       "      <td>0.000000</td>\n",
       "      <td>43.000000</td>\n",
       "      <td>4.000000</td>\n",
       "      <td>11.000000</td>\n",
       "      <td>1200.000000</td>\n",
       "      <td>1.699325</td>\n",
       "    </tr>\n",
       "    <tr>\n",
       "      <th>75%</th>\n",
       "      <td>41.000000</td>\n",
       "      <td>1.000000</td>\n",
       "      <td>53.000000</td>\n",
       "      <td>8.000000</td>\n",
       "      <td>12.000000</td>\n",
       "      <td>2000.000000</td>\n",
       "      <td>1.753062</td>\n",
       "    </tr>\n",
       "    <tr>\n",
       "      <th>max</th>\n",
       "      <td>53.000000</td>\n",
       "      <td>1.000000</td>\n",
       "      <td>99.000000</td>\n",
       "      <td>8.000000</td>\n",
       "      <td>17.000000</td>\n",
       "      <td>200000.000000</td>\n",
       "      <td>2.028497</td>\n",
       "    </tr>\n",
       "  </tbody>\n",
       "</table>\n",
       "</div>"
      ],
      "text/plain": [
       "                 UF          Sexo         Idade           Cor  Anos de Estudo  \\\n",
       "count  76840.000000  76840.000000  76840.000000  76840.000000    76840.000000   \n",
       "mean      31.912962      0.307002     44.071421      5.032613        9.469664   \n",
       "std       11.147830      0.461253     12.480583      2.857118        4.539929   \n",
       "min       11.000000      0.000000     13.000000      0.000000        1.000000   \n",
       "25%       25.000000      0.000000     34.000000      2.000000        6.000000   \n",
       "50%       31.000000      0.000000     43.000000      4.000000       11.000000   \n",
       "75%       41.000000      1.000000     53.000000      8.000000       12.000000   \n",
       "max       53.000000      1.000000     99.000000      8.000000       17.000000   \n",
       "\n",
       "               Renda        Altura  \n",
       "count   76840.000000  76840.000000  \n",
       "mean     2000.383199      1.699512  \n",
       "std      3323.387730      0.079717  \n",
       "min         0.000000      1.339245  \n",
       "25%       788.000000      1.645785  \n",
       "50%      1200.000000      1.699325  \n",
       "75%      2000.000000      1.753062  \n",
       "max    200000.000000      2.028497  "
      ]
     },
     "execution_count": 6,
     "metadata": {},
     "output_type": "execute_result"
    }
   ],
   "source": [
    "print(dados.info())\n",
    "dados.describe(include='all')"
   ]
  },
  {
   "cell_type": "markdown",
   "metadata": {
    "colab_type": "text",
    "id": "HDrFJQitTg1n"
   },
   "source": [
    "### Para avaliarmos o comportamento da variável RENDA vamos construir uma tabela de frequências considerando as seguintes classes em salários mínimos (SM)\n",
    "#### <font color='blue'>Descreva os pontos mais relevantes que você observa na tabela e no gráfico.</font>\n",
    "\n",
    "Classes de renda:\n",
    "\n",
    "<b>A</b> ► Acima de 25 SM\n",
    "\n",
    "<b>B</b> ► De 15 a 25 SM\n",
    "\n",
    "<b>C</b> ► De 5 a 15 SM\n",
    "\n",
    "<b>D</b> ► De 2 a 5 SM\n",
    "\n",
    "<b>E</b> ► Até 2 SM\n",
    "\n",
    "Para construir as classes de renda considere que o salário mínimo na época da pesquisa era de <b>R$ 788,00</b>.\n",
    "\n",
    "#### Siga os passos abaixo:"
   ]
  },
  {
   "cell_type": "markdown",
   "metadata": {
    "colab_type": "text",
    "id": "zJBkeGxiTg1o"
   },
   "source": [
    "### 1º Definir os intevalos das classes em reais (R$)"
   ]
  },
  {
   "cell_type": "code",
   "execution_count": 7,
   "metadata": {
    "colab": {},
    "colab_type": "code",
    "id": "-Ct3QUj6Tg1p"
   },
   "outputs": [],
   "source": [
    "sm:float = 788.00\n",
    "\n",
    "classes_renda = [0,2*sm,5*sm,15*sm,25*sm,np.inf]\n"
   ]
  },
  {
   "cell_type": "markdown",
   "metadata": {
    "colab_type": "text",
    "id": "dZ7X37CGTg1t"
   },
   "source": [
    "### 2º Definir os labels das classes"
   ]
  },
  {
   "cell_type": "code",
   "execution_count": 8,
   "metadata": {
    "colab": {},
    "colab_type": "code",
    "id": "4UFOzitTTg1u"
   },
   "outputs": [],
   "source": [
    "labels_renda = [\"E\",\"D\",\"C\",\"B\",\"A\"]"
   ]
  },
  {
   "cell_type": "markdown",
   "metadata": {
    "colab_type": "text",
    "id": "umFq1o-UTg1w"
   },
   "source": [
    "### 3º Construir a coluna de frequências"
   ]
  },
  {
   "cell_type": "code",
   "execution_count": 9,
   "metadata": {
    "colab": {},
    "colab_type": "code",
    "id": "uSztBoqOTg1x"
   },
   "outputs": [
    {
     "data": {
      "text/plain": [
       "classes_renda\n",
       "E    49357\n",
       "D    18972\n",
       "C     7268\n",
       "B      823\n",
       "A      420\n",
       "Name: count, dtype: int64"
      ]
     },
     "execution_count": 9,
     "metadata": {},
     "output_type": "execute_result"
    }
   ],
   "source": [
    "dados['classes_renda'] = pd.cut(dados['Renda'], bins=classes_renda, labels=labels_renda, right=False)\n",
    "frequencias = dados['classes_renda'].value_counts().reindex(labels_renda)\n",
    "frequencias"
   ]
  },
  {
   "cell_type": "markdown",
   "metadata": {
    "colab_type": "text",
    "id": "2k6nGUZKTg11"
   },
   "source": [
    "### 4º Construir a coluna de percentuais"
   ]
  },
  {
   "cell_type": "code",
   "execution_count": 10,
   "metadata": {
    "colab": {},
    "colab_type": "code",
    "id": "rdwUABsnTg12"
   },
   "outputs": [
    {
     "data": {
      "text/plain": [
       "classes_renda\n",
       "E    64.233472\n",
       "D    24.690265\n",
       "C     9.458615\n",
       "B     1.071057\n",
       "A     0.546590\n",
       "Name: proportion, dtype: float64"
      ]
     },
     "execution_count": 10,
     "metadata": {},
     "output_type": "execute_result"
    }
   ],
   "source": [
    "percentuais = dados['classes_renda'].value_counts(normalize=True).reindex(labels_renda)*100\n",
    "percentuais"
   ]
  },
  {
   "cell_type": "markdown",
   "metadata": {
    "colab_type": "text",
    "id": "9dvk6-9_Tg16"
   },
   "source": [
    "### 5º Juntar as colunas de frequência e percentuais e ordenar as linhas de acordo com os labels das classes"
   ]
  },
  {
   "cell_type": "code",
   "execution_count": 11,
   "metadata": {
    "colab": {},
    "colab_type": "code",
    "id": "tO_bcMmgTg16"
   },
   "outputs": [
    {
     "name": "stdout",
     "output_type": "stream",
     "text": [
      "               Frequência  Percentual\n",
      "classes_renda                        \n",
      "E                   49357   64.233472\n",
      "D                   18972   24.690265\n",
      "C                    7268    9.458615\n",
      "B                     823    1.071057\n",
      "A                     420    0.546590\n"
     ]
    }
   ],
   "source": [
    "tabela_frequencia_percentual = pd.DataFrame({'Frequência': frequencias, 'Percentual': percentuais})\n",
    "print(tabela_frequencia_percentual)"
   ]
  },
  {
   "cell_type": "markdown",
   "metadata": {
    "colab_type": "text",
    "id": "DOYtXuSbTg18"
   },
   "source": [
    "### Construa um gráfico de barras para visualizar as informações da tabela de frequências acima"
   ]
  },
  {
   "cell_type": "code",
   "execution_count": 12,
   "metadata": {
    "colab": {},
    "colab_type": "code",
    "id": "e4mDPKf1Tg18"
   },
   "outputs": [
    {
     "name": "stderr",
     "output_type": "stream",
     "text": [
      "C:\\Users\\João Lucas\\AppData\\Local\\Temp\\ipykernel_18668\\4248735357.py:11: FutureWarning: Series.__getitem__ treating keys as positions is deprecated. In a future version, integer keys will always be treated as labels (consistent with DataFrame behavior). To access a value by position, use `ser.iloc[pos]`\n",
      "  ax.annotate(f'{tabela_frequencia_percentual[\"Frequência\"][pos]}',  # Formatação com 1 casa decimal\n"
     ]
    },
    {
     "data": {
      "image/png": "[encoded data removed]",
      "text/plain": [
       "<Figure size 900x600 with 1 Axes>"
      ]
     },
     "metadata": {},
     "output_type": "display_data"
    }
   ],
   "source": [
    "plt.figure(figsize=(9,6))\n",
    "ax = tabela_frequencia_percentual['Frequência'].plot(kind='bar')\n",
    "plt.title('Frequência das Classes de Renda')\n",
    "plt.xlabel('Classes de Renda')\n",
    "plt.ylabel('Frequência Absoluta')\n",
    "plt.xticks(rotation=0)\n",
    "\n",
    "\n",
    "pos = 0\n",
    "for p in ax.patches:\n",
    "    ax.annotate(f'{tabela_frequencia_percentual[\"Frequência\"][pos]}',  # Formatação com 1 casa decimal\n",
    "                (p.get_x() + p.get_width() / 2., p.get_height()),\n",
    "                ha='center', va='center',\n",
    "                xytext=(0, 5),\n",
    "                textcoords='offset points')\n",
    "    pos += 1\n",
    "\n",
    "plt.tight_layout()\n",
    "plt.show()"
   ]
  },
  {
   "cell_type": "markdown",
   "metadata": {
    "colab_type": "text",
    "id": "9ppt5JevTg1-"
   },
   "source": [
    "> ### Conclusões\n",
    "\n",
    "Após a conclusão das etapas deste exercício, pode-se observar que a classe E predomina em meio à sociedade brasileira, com aproximadamente 65% da população recebendo menos do que 2 salários minímos, enquanto apenas 0.5% vivem com mais do que 25 salários mínimos, escancarando o tamanho da disparidade salarial presente dentro de um mesmo país."
   ]
  },
  {
   "cell_type": "markdown",
   "metadata": {
    "colab_type": "text",
    "id": "yt-gFm93Tg1-"
   },
   "source": [
    "### Crie um histograma para as variáveis QUANTITATIVAS de nosso dataset\n",
    "#### <font color='blue'>Descreva os pontos mais relevantes que você observa nos gráficos (assimetrias e seus tipos, possíveis causas para determinados comportamentos etc.)</font>"
   ]
  },
  {
   "cell_type": "code",
   "execution_count": 13,
   "metadata": {
    "colab": {},
    "colab_type": "code",
    "id": "DYjq9xasTg1_"
   },
   "outputs": [
    {
     "data": {
      "text/plain": [
       "<Figure size 1200x800 with 0 Axes>"
      ]
     },
     "metadata": {},
     "output_type": "display_data"
    },
    {
     "data": {
      "image/png": "[encoded data removed]",
      "text/plain": [
       "<Figure size 1200x800 with 4 Axes>"
      ]
     },
     "metadata": {},
     "output_type": "display_data"
    }
   ],
   "source": [
    "variaveis_quantitativas = ['Idade','Anos de Estudo','Renda','Altura']\n",
    "plt.figure(figsize=(12,8))\n",
    "dados[variaveis_quantitativas].hist(bins=10, figsize=(12,8), layout=(2,2), color='green', edgecolor='black')\n",
    "plt.tight_layout()\n",
    "plt.show()"
   ]
  },
  {
   "cell_type": "markdown",
   "metadata": {
    "colab_type": "text",
    "id": "w45i-qJ1Tg2E"
   },
   "source": [
    "> ### Conclusões\n",
    "\n",
    "Podemos tirar as seguintes conclusões para cada um dos histogramas apresentados:\n",
    "\n",
    " - IDADE: A maioria dos indivíduos está na faixa dos 30 aos 50 anos, uma faixa onde a tendência é que sejam pessoas já trabalhando ou estudando. O número de crianças e idosos neste dataset é inferior comparado ao número de indivíduos em idade ativa.\n",
    " - ANOS DE ESTUDO: A maioria dos indivíduos possui cerca de 11 a 12 anos de estudo, revelando que grande parte da população concluiu o ensino médio, embora as ocorrências de indivíduos que abandonam a escola antes desta etapa se expressam em quantidades que não pode ser ignorada, revelando a tendência presente na sociedade brasileira de não conclusão do ensino médio para trabalhar.\n",
    " - RENDA: Nota-se a massiva quantidade de indíviduos que recebem menos do que 25000, enquanto são raros os casos de pessoas que ultrapassam essa linha.\n",
    " - ALTURA: A maior parte dos indivíduos estão entre 1.70 e 1.80, coicidindo com a altura padrão de uma pessoa entre os 20 a 50 anos."
   ]
  },
  {
   "cell_type": "markdown",
   "metadata": {
    "colab_type": "text",
    "id": "pnAH1T5fTg2F"
   },
   "source": [
    "### Para a variável RENDA, construa um histograma somente com as informações das pessoas com rendimento até R$ 20.000,00"
   ]
  },
  {
   "cell_type": "code",
   "execution_count": 14,
   "metadata": {
    "colab": {},
    "colab_type": "code",
    "id": "C7zHF1vPTg2G"
   },
   "outputs": [
    {
     "data": {
      "image/png": "[encoded data removed]",
      "text/plain": [
       "<Figure size 800x500 with 1 Axes>"
      ]
     },
     "metadata": {},
     "output_type": "display_data"
    }
   ],
   "source": [
    "plt.figure(figsize=(8,5))\n",
    "dados.query('Renda <= 20000')['Renda'].hist(bins=20, color='green', edgecolor='black')\n",
    "plt.title('Histograma de Renda até R$20.000')\n",
    "plt.xlabel('Renda (R$)')\n",
    "plt.ylabel('Frequência')\n",
    "plt.tight_layout()\n",
    "plt.show()"
   ]
  },
  {
   "cell_type": "markdown",
   "metadata": {
    "colab_type": "text",
    "id": "vvtzLOUKTg2H"
   },
   "source": [
    "### Construa uma tabela de frequências e uma com os percentuais do cruzando das variáveis SEXO e COR\n",
    "#### <font color='blue'>Avalie o resultado da tabela e escreva suas principais conclusões</font>\n",
    "#### <font color='red'>Utilize os dicionários abaixo para renomear as linha e colunas das tabelas de frequências e dos gráficos em nosso projeto</font>"
   ]
  },
  {
   "cell_type": "code",
   "execution_count": 33,
   "metadata": {
    "colab": {},
    "colab_type": "code",
    "id": "sChJRo_qTg2I"
   },
   "outputs": [],
   "source": [
    "sexo = {\n",
    "    0: 'Masculino', \n",
    "    1: 'Feminino'\n",
    "}\n",
    "cor = {\n",
    "    0: 'Indígena', \n",
    "    2: 'Branca', \n",
    "    4: 'Preta', \n",
    "    6: 'Amarela', \n",
    "    8: 'Parda', \n",
    "    9: 'Sem declaração'\n",
    "}\n",
    "anos_de_estudo = {\n",
    "    1: 'Sem instrução e menos de 1 ano', \n",
    "    2: '1 ano', \n",
    "    3: '2 anos', \n",
    "    4: '3 anos', \n",
    "    5: '4 anos', \n",
    "    6: '5 anos', \n",
    "    7: '6 anos', \n",
    "    8: '7 anos', \n",
    "    9: '8 anos', \n",
    "    10: '9 anos', \n",
    "    11: '10 anos', \n",
    "    12: '11 anos', \n",
    "    13: '12 anos', \n",
    "    14: '13 anos', \n",
    "    15: '14 anos', \n",
    "    16: '15 anos ou mais', \n",
    "    17: 'Não determinados'\n",
    "}\n",
    "uf = {\n",
    "    11: 'Rondônia', \n",
    "    12: 'Acre', \n",
    "    13: 'Amazonas', \n",
    "    14: 'Roraima', \n",
    "    15: 'Pará', \n",
    "    16: 'Amapá', \n",
    "    17: 'Tocantins', \n",
    "    21: 'Maranhão', \n",
    "    22: 'Piauí', \n",
    "    23: 'Ceará', \n",
    "    24: 'Rio Grande do Norte', \n",
    "    25: 'Paraíba', \n",
    "    26: 'Pernambuco', \n",
    "    27: 'Alagoas', \n",
    "    28: 'Sergipe', \n",
    "    29: 'Bahia', \n",
    "    31: 'Minas Gerais', \n",
    "    32: 'Espírito Santo', \n",
    "    33: 'Rio de Janeiro', \n",
    "    35: 'São Paulo', \n",
    "    41: 'Paraná', \n",
    "    42: 'Santa Catarina', \n",
    "    43: 'Rio Grande do Sul', \n",
    "    50: 'Mato Grosso do Sul', \n",
    "    51: 'Mato Grosso', \n",
    "    52: 'Goiás', \n",
    "    53: 'Distrito Federal'\n",
    "}\n",
    "\n",
    "dados['Sexo_Nome'] = dados['Sexo'].map(sexo)\n",
    "dados['Cor_Nome'] = dados['Cor'].map(cor)\n",
    "dados['Anos_Estudo_Nome'] = dados['Anos de Estudo'].map(anos_de_estudo)\n",
    "\n",
    "\n",
    "uf_map = {\n",
    "    1: 'Rondônia',1: 'Acre', 3: 'Amazonas', 4: 'Roraima', 5: 'Pará', 6: 'Amapá', 7: 'Tocantins',\n",
    "    8: 'Maranhão', 9: 'Piauí', 10: 'Ceará',11: 'Rio Grande do Norte',12: 'Paraíba',13: 'Pernambuco',\n",
    "    14: 'Alagoas',15: 'Sergipe',16: 'Bahia',17: 'Minas Gerais',18: 'Espírito Santo',19: 'Rio de Janeiro',\n",
    "    20: 'São Paulo',21: 'Paraná', 22: 'Santa Catarina',23: 'Rio Grande do Sul', 24: 'Mato Grosso do Sul',\n",
    "    25: 'Mato Grosso',26: 'Goiás',27: 'Distrito Federal'\n",
    "}\n",
    "\n",
    "dados['UF_Nome'] = dados['UF'].map(uf_map)"
   ]
  },
  {
   "cell_type": "code",
   "execution_count": 16,
   "metadata": {
    "colab": {},
    "colab_type": "code",
    "id": "KbeFXAGSTg2K"
   },
   "outputs": [
    {
     "name": "stdout",
     "output_type": "stream",
     "text": [
      "Cor_Nome   Amarela  Branca  Indígena  Parda  Preta\n",
      "Sexo_Nome                                         \n",
      "Feminino       117    9621       101  10862   2889\n",
      "Masculino      235   22194       256  25063   5502\n"
     ]
    }
   ],
   "source": [
    "tabela_frequencia_sexo_cor = pd.crosstab(dados['Sexo_Nome'], dados['Cor_Nome'])\n",
    "print(tabela_frequencia_sexo_cor)\n"
   ]
  },
  {
   "cell_type": "code",
   "execution_count": 17,
   "metadata": {
    "colab": {},
    "colab_type": "code",
    "id": "csL1jaeSTg2M"
   },
   "outputs": [
    {
     "name": "stdout",
     "output_type": "stream",
     "text": [
      "Cor_Nome    Amarela     Branca  Indígena      Parda     Preta\n",
      "Sexo_Nome                                                    \n",
      "Feminino   0.152264  12.520822  0.131442  14.135867  3.759761\n",
      "Masculino  0.305830  28.883394  0.333160  32.617126  7.160333\n"
     ]
    }
   ],
   "source": [
    "tabela_percentual_sexo_cor = pd.crosstab(dados['Sexo_Nome'], dados['Cor_Nome'], normalize='all')*100\n",
    "print(tabela_percentual_sexo_cor)"
   ]
  },
  {
   "cell_type": "markdown",
   "metadata": {
    "colab_type": "text",
    "id": "2jLZmww2Tg2O"
   },
   "source": [
    "> ### Conclusões\n",
    "\n",
    "Essa comparação de cores e sexos mostrou que o Brasil é um país predominantemente Pardo, independente do sexo, fato que se explica por conta da miscigenação oriunda da colonização portuguesa e também pelo longo período de escravidão vigente no país."
   ]
  },
  {
   "cell_type": "markdown",
   "metadata": {
    "colab_type": "text",
    "id": "Aoeayf6zTg2P"
   },
   "source": [
    "## Realize, para a variável RENDA, uma análise descritiva com as ferramentas que aprendemos em nosso treinamento"
   ]
  },
  {
   "cell_type": "markdown",
   "metadata": {
    "colab_type": "text",
    "id": "c2CtT71oTg2P"
   },
   "source": [
    "### Obtenha a média aritimética"
   ]
  },
  {
   "cell_type": "code",
   "execution_count": 18,
   "metadata": {
    "colab": {},
    "colab_type": "code",
    "id": "qlJESCU6Tg2P"
   },
   "outputs": [
    {
     "name": "stdout",
     "output_type": "stream",
     "text": [
      "2000.3831988547631\n"
     ]
    }
   ],
   "source": [
    "media_aritmetica = dados['Renda'].mean()\n",
    "print(media_aritmetica)"
   ]
  },
  {
   "cell_type": "markdown",
   "metadata": {
    "colab_type": "text",
    "id": "Xd4saPBCTg2R"
   },
   "source": [
    "### Obtenha a mediana"
   ]
  },
  {
   "cell_type": "code",
   "execution_count": 19,
   "metadata": {
    "colab": {},
    "colab_type": "code",
    "id": "vHTqX-UATg2R"
   },
   "outputs": [
    {
     "name": "stdout",
     "output_type": "stream",
     "text": [
      "1200.0\n"
     ]
    }
   ],
   "source": [
    "mediana = dados['Renda'].median()\n",
    "print(mediana)"
   ]
  },
  {
   "cell_type": "markdown",
   "metadata": {
    "colab_type": "text",
    "id": "_e40rDSwTg2U"
   },
   "source": [
    "### Obtenha a moda"
   ]
  },
  {
   "cell_type": "code",
   "execution_count": 20,
   "metadata": {
    "colab": {},
    "colab_type": "code",
    "id": "BFOOdYOvTg2V"
   },
   "outputs": [
    {
     "name": "stdout",
     "output_type": "stream",
     "text": [
      "788\n"
     ]
    }
   ],
   "source": [
    "moda = dados['Renda'].mode()[0]\n",
    "print(moda)"
   ]
  },
  {
   "cell_type": "markdown",
   "metadata": {
    "colab_type": "text",
    "id": "Rnr1gOCMTg2X"
   },
   "source": [
    "### Obtenha o desvio médio absoluto"
   ]
  },
  {
   "cell_type": "code",
   "execution_count": 21,
   "metadata": {
    "colab": {},
    "colab_type": "code",
    "id": "TmE_1QDGTg2Y"
   },
   "outputs": [
    {
     "name": "stdout",
     "output_type": "stream",
     "text": [
      "1526.4951371638058\n"
     ]
    }
   ],
   "source": [
    "desvio_medio = np.mean(np.abs(dados['Renda'] - dados['Renda'].mean()))\n",
    "print(desvio_medio)"
   ]
  },
  {
   "cell_type": "markdown",
   "metadata": {
    "colab_type": "text",
    "id": "hCgV_XaQTg2Z"
   },
   "source": [
    "### Obtenha a variância"
   ]
  },
  {
   "cell_type": "code",
   "execution_count": 22,
   "metadata": {
    "colab": {},
    "colab_type": "code",
    "id": "SwRgACeGTg2a"
   },
   "outputs": [
    {
     "name": "stdout",
     "output_type": "stream",
     "text": [
      "11044906.006217021\n"
     ]
    }
   ],
   "source": [
    "variancia = dados['Renda'].var()\n",
    "print(variancia)"
   ]
  },
  {
   "cell_type": "markdown",
   "metadata": {
    "colab_type": "text",
    "id": "gsO6MKOcTg2c"
   },
   "source": [
    "### Obtenha o desvio-padrão"
   ]
  },
  {
   "cell_type": "code",
   "execution_count": 23,
   "metadata": {
    "colab": {},
    "colab_type": "code",
    "id": "gR-LVTRYTg2d"
   },
   "outputs": [
    {
     "name": "stdout",
     "output_type": "stream",
     "text": [
      "3323.3877303464037\n"
     ]
    }
   ],
   "source": [
    "desvio_padrao = dados['Renda'].std()\n",
    "print(desvio_padrao)"
   ]
  },
  {
   "cell_type": "markdown",
   "metadata": {
    "colab_type": "text",
    "id": "vG-rdO5fTg2f"
   },
   "source": [
    "### Obtenha a média, mediana e valor máximo da variável RENDA segundo SEXO e COR\n",
    "#### <font color='blue'>Destaque os pontos mais importante que você observa nas tabulações</font>\n",
    "#### <font color='red'>O parâmento <i>aggfunc</i> da função <i>crosstab()</i> pode receber uma lista de funções. Exemplo: <i>aggfunc = {'mean', 'median', 'max'}</i></font>"
   ]
  },
  {
   "cell_type": "code",
   "execution_count": 24,
   "metadata": {
    "colab": {},
    "colab_type": "code",
    "id": "VgxygKWXTg2g"
   },
   "outputs": [
    {
     "name": "stdout",
     "output_type": "stream",
     "text": [
      "                  mean                                                      \\\n",
      "Cor_Nome       Amarela       Branca     Indígena        Parda        Preta   \n",
      "Sexo_Nome                                                                    \n",
      "Feminino   3027.341880  2109.866750  2464.386139  1176.758516  1134.596400   \n",
      "Masculino  4758.251064  2925.744435  1081.710938  1659.577425  1603.861687   \n",
      "\n",
      "           median                                   ...         std  \\\n",
      "Cor_Nome  Amarela  Branca Indígena   Parda   Preta  ...     Amarela   \n",
      "Sexo_Nome                                           ...               \n",
      "Feminino   1500.0  1200.0    788.0   800.0   800.0  ...  3731.17366   \n",
      "Masculino  2800.0  1700.0    797.5  1200.0  1200.0  ...  5740.82482   \n",
      "\n",
      "                                                                 count         \\\n",
      "Cor_Nome        Branca      Indígena        Parda        Preta Amarela Branca   \n",
      "Sexo_Nome                                                                       \n",
      "Feminino   3251.013154  11957.498292  1596.233048  1349.799809     117   9621   \n",
      "Masculino  4750.791872   1204.093490  2312.087184  1936.309271     235  22194   \n",
      "\n",
      "                                 \n",
      "Cor_Nome  Indígena  Parda Preta  \n",
      "Sexo_Nome                        \n",
      "Feminino       101  10862  2889  \n",
      "Masculino      256  25063  5502  \n",
      "\n",
      "[2 rows x 30 columns]\n"
     ]
    }
   ],
   "source": [
    "estatisticas_gerais = pd.crosstab(dados['Sexo_Nome'], dados['Cor_Nome'], values=dados['Renda'],\n",
    "                          aggfunc=['mean','median','max', 'min','std','count'],)\n",
    "print(estatisticas_gerais)"
   ]
  },
  {
   "cell_type": "markdown",
   "metadata": {
    "colab_type": "text",
    "id": "ibndm9iwTg2i"
   },
   "source": [
    "> ### Conclusões\n",
    "\n",
    "Aqui nesta tabela, é interessante observar a disparidade entre os valores de média e mediana, relevando que existem valores extremos (outliers) presentes no dataset que elevam a média, ou seja, por conta de poucas pessoas que ganham muito dinheiro, a média está acima da moda."
   ]
  },
  {
   "cell_type": "markdown",
   "metadata": {
    "colab_type": "text",
    "id": "CleJ6c1rTg2i"
   },
   "source": [
    "### Obtenha as medidas de dispersão da variável RENDA segundo SEXO e COR\n",
    "#### <font color='blue'>Destaque os pontos mais importante que você observa nas tabulações</font>\n",
    "#### <font color='red'>O parâmento <i>aggfunc</i> da função <i>crosstab()</i> pode receber uma lista de funções. Exemplo: <i>aggfunc = {'mad', 'var', 'std'}</i></font>"
   ]
  },
  {
   "cell_type": "code",
   "execution_count": 25,
   "metadata": {
    "colab": {},
    "colab_type": "code",
    "id": "bNv-eWZ3Tg2j"
   },
   "outputs": [
    {
     "name": "stdout",
     "output_type": "stream",
     "text": [
      "          getMedidaDispersao                                         \\\n",
      "Cor_Nome             Amarela       Branca     Indígena        Parda   \n",
      "Sexo_Nome                                                             \n",
      "Feminino         2549.146322  1670.967106  3007.892952   811.580946   \n",
      "Masculino        3709.597211  2261.012346   798.910889  1125.827704   \n",
      "\n",
      "                                var                                            \\\n",
      "Cor_Nome        Preta       Amarela        Branca      Indígena         Parda   \n",
      "Sexo_Nome                                                                       \n",
      "Feminino   705.453357  1.392166e+07  1.056909e+07  1.429818e+08  2.547960e+06   \n",
      "Masculino  975.602482  3.295707e+07  2.257002e+07  1.449841e+06  5.345747e+06   \n",
      "\n",
      "                                std                                          \\\n",
      "Cor_Nome          Preta     Amarela       Branca      Indígena        Parda   \n",
      "Sexo_Nome                                                                     \n",
      "Feminino   1.821960e+06  3731.17366  3251.013154  11957.498292  1596.233048   \n",
      "Masculino  3.749294e+06  5740.82482  4750.791872   1204.093490  2312.087184   \n",
      "\n",
      "                        \n",
      "Cor_Nome         Preta  \n",
      "Sexo_Nome               \n",
      "Feminino   1349.799809  \n",
      "Masculino  1936.309271  \n"
     ]
    }
   ],
   "source": [
    "def getMedidaDispersao(val):\n",
    "    return np.mean(np.abs(val - np.mean(val)))\n",
    "\n",
    "medidas_dispersao = pd.crosstab(dados['Sexo_Nome'], dados['Cor_Nome'], values=dados['Renda'],\n",
    "                          aggfunc=[getMedidaDispersao,'var','std'])\n",
    "print(medidas_dispersao)"
   ]
  },
  {
   "cell_type": "markdown",
   "metadata": {
    "colab_type": "text",
    "id": "57aHvJMSTg2l"
   },
   "source": [
    "> ### Conclusões\n",
    "\n",
    "Escreva suas conclusões aqui..."
   ]
  },
  {
   "cell_type": "markdown",
   "metadata": {
    "colab_type": "text",
    "id": "QSYjkdyOTg2l"
   },
   "source": [
    "### Construa um box plot da variável RENDA segundo SEXO e COR\n",
    "#### <font color='blue'>É possível verificar algum comportamento diferenciado no rendimento entre os grupos de pessoas analisados? Avalie o gráfico e destaque os pontos mais importantes.</font>\n",
    "#### <font color='red'>1º - Utilize somente as informações de pessoas com renda abaixo de R$ 10.000</font>\n",
    "#### <font color='red'>2º - Para incluir uma terceira variável na construção de um boxplot utilize o parâmetro <i>hue</i> e indique a variável que quer incluir na subdivisão.</font>\n",
    "#### Mais informações: https://seaborn.pydata.org/generated/seaborn.boxplot.html"
   ]
  },
  {
   "cell_type": "code",
   "execution_count": null,
   "metadata": {
    "colab": {},
    "colab_type": "code",
    "id": "8hGa4SMRTg2m"
   },
   "outputs": [],
   "source": [
    "\n",
    "\n",
    "filtro = dados.query('Renda < 10000')\n",
    "plt.figure(figsize=(10,6))\n",
    "sns.boxplot(data=filtro, x='Sexo_Nome', y='Renda', hue='Cor_Nome')\n",
    "plt.title('Distribuição da Renda (inferior à R$10k) por Sexo e Cor')\n",
    "plt.xlabel('Sexo')\n",
    "plt.ylabel('Renda')\n",
    "plt.legend(title='Cor', bbox_to_anchor=(1.05,1), loc='upper left')\n",
    "plt.tight_layout()\n",
    "plt.show()"
   ]
  },
  {
   "cell_type": "markdown",
   "metadata": {
    "colab_type": "text",
    "id": "ROiIQRFhTg2o"
   },
   "source": [
    "> ### Conclusões\n",
    "\n",
    "Nota-se aqui a disparidade salarial entre homens e mulheres, com homens ganhando mais, mesmo em comparações de homens e mulheres da mesma cor."
   ]
  },
  {
   "cell_type": "markdown",
   "metadata": {
    "colab_type": "text",
    "id": "zi4BaGooTg2o"
   },
   "source": [
    "# <font color=\"red\">DESAFIO<font>\n",
    "### Qual percentual de pessoas de nosso <i>dataset</i> ganham um salário mínimo (R$ 788,00) ou menos?\n",
    "#### <font color='red'>Utilize a função <i>percentileofscore()</i> do <i>scipy</i> para realizar estas análises.</font>\n",
    "#### Mais informações: https://docs.scipy.org/doc/scipy/reference/generated/scipy.stats.percentileofscore.html\n"
   ]
  },
  {
   "cell_type": "code",
   "execution_count": 27,
   "metadata": {
    "colab": {},
    "colab_type": "code",
    "id": "9DwXo2yITg2p"
   },
   "outputs": [
    {
     "name": "stdout",
     "output_type": "stream",
     "text": [
      "% ≤ 1 SM: 24.39%\n"
     ]
    }
   ],
   "source": [
    "from scipy.stats import percentileofscore\n",
    "\n",
    "percent_inferior_sm = percentileofscore(dados['Renda'], sm)\n",
    "print(f\"% ≤ 1 SM: {percent_inferior_sm:.2f}%\")\n",
    "\n"
   ]
  },
  {
   "cell_type": "markdown",
   "metadata": {
    "colab_type": "text",
    "id": "bl0fOMuKTg2q"
   },
   "source": [
    "### Qual o valor máximo ganho por 99% das pessoas de nosso <i>dataset</i>?\n",
    "#### <font color='red'>Utilize o método <i>quantile()</i> do <i>pandas</i> para realizar estas análises.</font>"
   ]
  },
  {
   "cell_type": "code",
   "execution_count": 28,
   "metadata": {
    "colab": {},
    "colab_type": "code",
    "id": "cIVwy8bKTg2q"
   },
   "outputs": [
    {
     "name": "stdout",
     "output_type": "stream",
     "text": [
      "Valor que 99% ganham ≤: R$ 15000.00\n"
     ]
    }
   ],
   "source": [
    "valor_para_99 = dados['Renda'].quantile(0.99)\n",
    "print(f\"Valor que 99% ganham ≤: R$ {valor_para_99:.2f}\")"
   ]
  },
  {
   "cell_type": "markdown",
   "metadata": {
    "colab_type": "text",
    "id": "zeRhvtngTg2r"
   },
   "source": [
    "### Obtenha a média, mediana, valor máximo e desvio-padrão da variável RENDA segundo ANOS DE ESTUDO e SEXO\n",
    "#### <font color='blue'>Destaque os pontos mais importante que você observa nas tabulações</font>\n",
    "#### <font color='red'>O parâmento <i>aggfunc</i> da função <i>crosstab()</i> pode receber uma lista de funções. Exemplo: <i>aggfunc = ['mean', 'median', 'max', 'std']</i></font>"
   ]
  },
  {
   "cell_type": "code",
   "execution_count": 31,
   "metadata": {
    "colab": {},
    "colab_type": "code",
    "id": "8nxGdQIpTg2s"
   },
   "outputs": [
    {
     "name": "stdout",
     "output_type": "stream",
     "text": [
      "                                       mean                median            \\\n",
      "Sexo_Nome                          Feminino    Masculino Feminino Masculino   \n",
      "Anos_Estudo_Nome                                                              \n",
      "1 ano                            492.771987   895.629047    400.0     788.0   \n",
      "10 anos                          925.919225  1731.270847    800.0    1218.0   \n",
      "11 anos                         1286.790889  2117.060504   1000.0    1500.0   \n",
      "12 anos                         1682.313725  2470.330776   1200.0    1800.0   \n",
      "13 anos                         1911.730047  3195.099154   1300.0    2400.0   \n",
      "14 anos                         2226.460457  3706.620269   1600.0    2500.0   \n",
      "15 anos ou mais                 3899.513231  6134.279790   2800.0    4000.0   \n",
      "2 anos                           529.911638   931.178986    450.0     788.0   \n",
      "3 anos                           546.853916  1109.203862    500.0     800.0   \n",
      "4 anos                           704.279111  1302.329283    788.0    1000.0   \n",
      "5 anos                           781.389776  1338.653218    788.0    1045.0   \n",
      "6 anos                           833.732824  1448.875419    788.0    1200.0   \n",
      "7 anos                           830.751004  1465.497940    788.0    1200.0   \n",
      "8 anos                           933.615351  1639.396667    800.0    1300.0   \n",
      "9 anos                           868.021700  1508.038850    788.0    1200.0   \n",
      "Não determinados                 798.174419  1295.761905    788.0    1200.0   \n",
      "Sem instrução e menos de 1 ano   516.201748   799.494638    390.0     700.0   \n",
      "\n",
      "                                    max                    std               \n",
      "Sexo_Nome                      Feminino Masculino     Feminino    Masculino  \n",
      "Anos_Estudo_Nome                                                             \n",
      "1 ano                              2000     30000   425.291842  1331.950552  \n",
      "10 anos                            6000     45000   620.611907  2078.609734  \n",
      "11 anos                          100000    200000  1819.040417  2676.538942  \n",
      "12 anos                          120000     30000  4851.833513  2268.081538  \n",
      "13 anos                           20000     25000  2053.789771  2797.116800  \n",
      "14 anos                           20000     50000  2064.083336  3987.214974  \n",
      "15 anos ou mais                  100000    200000  4212.770709  7447.613594  \n",
      "2 anos                             4000     40000   498.234168  1435.173827  \n",
      "3 anos                             3500     80000   424.124446  2143.800133  \n",
      "4 anos                            10000     50000   629.553397  1419.821787  \n",
      "5 anos                             8000     35000   635.782641  1484.650587  \n",
      "6 anos                             6000     25000   574.547028  1476.628602  \n",
      "7 anos                             9000     40000   602.038029  1419.708673  \n",
      "8 anos                            18000     30000   896.781213  1515.583715  \n",
      "9 anos                            20000     60000   973.221652  2137.664774  \n",
      "Não determinados                   3000      7000   459.985964   979.648745  \n",
      "Sem instrução e menos de 1 ano    10000     30000   639.311534  1023.904884  \n"
     ]
    }
   ],
   "source": [
    "estatisticas_renda_ae_sexo = pd.crosstab(dados['Anos_Estudo_Nome'], dados['Sexo_Nome'],\n",
    "                        values=dados['Renda'], aggfunc=['mean','median','max','std'])\n",
    "print(estatisticas_renda_ae_sexo)"
   ]
  },
  {
   "cell_type": "markdown",
   "metadata": {
    "colab_type": "text",
    "id": "1Rm1n7a_Tg2u"
   },
   "source": [
    "### Construa um box plot da variável RENDA segundo ANOS DE ESTUDO e SEXO\n",
    "#### <font color='blue'>É possível verificar algum comportamento diferenciado no rendimento entre os grupos de pessoas analisados? Avalie o gráfico e destaque os pontos mais importantes.</font>\n",
    "#### <font color='red'>1º - Utilize somente as informações de pessoas com renda abaixo de R$ 10.000</font>\n",
    "#### <font color='red'>2º - Utilize a variável IDADE para identificar se a desigualdade se verifica para pessoas de mesma idade. Exemplo: <i>data=dados.query('Renda < 10000 and Idade == 40')</i> ou <i>data=dados.query('Renda < 10000 and Idade == 50')</i></font>\n",
    "#### <font color='red'>3º - Para incluir uma terceira variável na construção de um boxplot utilize o parâmetro <i>hue</i> e indique a variável que quer incluir na subdivisão.</font>\n",
    "#### Mais informações: https://seaborn.pydata.org/generated/seaborn.boxplot.html"
   ]
  },
  {
   "cell_type": "code",
   "execution_count": null,
   "metadata": {
    "colab": {},
    "colab_type": "code",
    "id": "rgMU0WyJTg2v"
   },
   "outputs": [],
   "source": [
    "df_box = dados.query('Renda < 10000 and Idade == 40')\n",
    "plt.figure(figsize=(12,6))\n",
    "sns.boxplot(data=df_box, x='AnosEstudo_Nome', y='Renda', hue='Sexo_Nome')\n",
    "plt.title('Renda <10k, Idade 40, por Anos de Estudo e Sexo')\n",
    "plt.xlabel('Anos de Estudo')\n",
    "plt.ylabel('Renda')\n",
    "plt.xticks(rotation=45)\n",
    "plt.legend(title='Sexo', bbox_to_anchor=(1.05,1), loc='upper left')\n",
    "plt.tight_layout()\n",
    "plt.show()"
   ]
  },
  {
   "cell_type": "markdown",
   "metadata": {
    "colab_type": "text",
    "id": "LrEECOmNTg2w"
   },
   "source": [
    "> ### Conclusões\n",
    "\n",
    "Escreva suas conclusões aqui..."
   ]
  },
  {
   "cell_type": "markdown",
   "metadata": {
    "colab_type": "text",
    "id": "0fIFSxj8Tg2x"
   },
   "source": [
    "### Obtenha a média, mediana, valor máximo e desvio-padrão da variável RENDA segundo as UNIDADES DA FEDERAÇÃO\n",
    "#### <font color='blue'>Destaque os pontos mais importante que você observa nas tabulações</font>\n",
    "#### <font color='red'>Utilize o método <i>groupby()</i> do <i>pandas</i> juntamente com o método <i>agg()</i> para contruir a tabulação. O método <i>agg()</i> pode receber um dicionário especificando qual coluna do DataFrame deve ser utilizada e qual lista de funções estatísticas queremos obter, por exemplo: <i>dados.groupby(['UF']).agg({'Renda': ['mean', 'median', 'max', 'std']})</i></font>"
   ]
  },
  {
   "cell_type": "code",
   "execution_count": 34,
   "metadata": {
    "colab": {},
    "colab_type": "code",
    "id": "91IxQFJoTg2x"
   },
   "outputs": [
    {
     "name": "stdout",
     "output_type": "stream",
     "text": [
      "                            mean  median    max          std\n",
      "UF_Nome                                                     \n",
      "Alagoas              1783.588889  1000.0  20000  2079.659238\n",
      "Bahia                1861.353516  1200.0  15580  2020.688632\n",
      "Distrito Federal     1144.552602   788.0  11000  1237.856197\n",
      "Goiás                1527.079319   900.0  50000  2389.622497\n",
      "Mato Grosso          1293.370487   788.0  30000  1950.272431\n",
      "Mato Grosso do Sul   1344.721480   800.0  15500  1651.805500\n",
      "Minas Gerais         1771.094946  1000.0  60000  2934.590741\n",
      "Paraná               1019.432009   700.0  30000  1887.816905\n",
      "Paraíba              1506.091782   900.0  30000  2276.233415\n",
      "Pernambuco           1445.130100   900.0  22000  1757.935591\n",
      "Rio Grande do Norte  1789.761223  1200.0  50000  2406.161161\n",
      "Rio Grande do Sul    1255.403692   789.0  25000  1821.963536\n",
      "Santa Catarina       1074.550784   750.0  40000  2373.355726\n",
      "Sergipe              1399.076871   850.0  50000  2053.779555\n"
     ]
    }
   ],
   "source": [
    "estatisticas_renda_uf = dados.groupby('UF_Nome')['Renda'].agg(['mean','median','max','std'])\n",
    "print(estatisticas_renda_uf)"
   ]
  },
  {
   "cell_type": "markdown",
   "metadata": {
    "colab_type": "text",
    "id": "6NfAKimkTg2y"
   },
   "source": [
    "### Construa um box plot da variável RENDA segundo as UNIDADES DA FEDERAÇÃO\n",
    "#### <font color='blue'>É possível verificar algum comportamento diferenciado no rendimento entre os grupos analisados? Avalie o gráfico e destaque os pontos mais importantes.</font>\n",
    "#### <font color='red'>1º - Utilize somente as informações de pessoas com renda abaixo de R$ 10.000</font>"
   ]
  },
  {
   "cell_type": "code",
   "execution_count": null,
   "metadata": {
    "colab": {},
    "colab_type": "code",
    "id": "XdEGG3blTg2z"
   },
   "outputs": [],
   "source": [
    "filtro = dados.query('Renda < 10000')\n",
    "plt.figure(figsize=(14,6))\n",
    "sns.boxplot(data=filtro, x='UF_Nome', y='Renda')\n",
    "plt.title('Distribuição da Renda (inferior à R$10k) por Unidade da Federação')\n",
    "plt.xlabel('Unidade da Federação')\n",
    "plt.ylabel('Renda')\n",
    "plt.xticks(rotation=90)\n",
    "plt.tight_layout()\n",
    "plt.show()"
   ]
  },
  {
   "cell_type": "markdown",
   "metadata": {
    "colab_type": "text",
    "id": "7ssOt3MRTg22"
   },
   "source": [
    "> ### Conclusões\n",
    "\n",
    "Há uma clara disparidade entre a distribuição de renda do Sul e Sudeste comparadas ao Norte e Nordeste, revelando as áreas do Brasil onde os profissionais são melhor remunerados e/ou que existem mais oportunidades de emprego."
   ]
  },
  {
   "cell_type": "markdown",
   "metadata": {},
   "source": [
    "## Finalizando.\n",
    "\n",
    "Resolva 3 exercícios de sua escolha do Capítulo 1 do livro **OpenIntro Statistics**"
   ]
  },
  {
   "cell_type": "markdown",
   "metadata": {},
   "source": [
    "<h2>Stealers, study, components.</h2> \n",
    "\n",
    "In a study of the relationship between socio-economic class and unethical\n",
    " behavior, 129 University of California undergraduates at Berkeley were asked to identify themselves as\n",
    " having low or high social-class by comparing themselves to others with the most(least) money, most(least)\n",
    " education, and most (least) respected jobs. They were also presented with a jar of individually wrapped\n",
    " candies and informed that the candies were for children in a nearby laboratory, but that they could take\n",
    " some if they wanted. After completing some unrelated tasks,participants reported the number of candies\n",
    " they had taken.\n",
    " (a) Identify the main research question of the study.\n",
    " (b) Who are the subjects in this study, and how many are included?\n",
    " (c) The study found tha tstudents who were identified a supper class took more candy than others. How many variables were recorded for each subject in the study in order to conclude these findings? State the variables and their types."
   ]
  },
  {
   "cell_type": "markdown",
   "metadata": {},
   "source": [
    "(a) \n",
    "A principal questão de pesquisa do estudo é investigar se existe uma relação entre a classe socioeconômica autorrelatada (baixa vs. alta) e o comportamento antiético (nesse caso, a quantidade de doces tomados indevidamente pelos participantes).\n",
    "\n",
    "(b)\n",
    "Os sujeitos do estudo são 129 estudantes de graduação da Universidade da Califórnia em Berkeley.\n",
    "\n",
    "(c)\n",
    "Foram registradas duas variáveis para cada participante:\n",
    "\n",
    "1. Classe socioeconômica (variável categórica nominal):\n",
    " - Valores possíveis: \"baixa\" ou \"alta\" (com base na autoclassificação dos participantes).\n",
    "\n",
    "2. Número de doces tomados (variável quantitativa discreta):\n",
    " - Quantidade de doces que cada participante pegou (valores inteiros, como 0, 1, 2, etc.).\n",
    "\n",
    "Com essas variáveis, os pesquisadores puderam comparar a média de doces tomados entre os grupos (alta vs. baixa classe) e concluir que os estudantes de classe alta tomaram mais doces."
   ]
  },
  {
   "cell_type": "markdown",
   "metadata": {},
   "source": [
    "<h2>Cheaters, study components.</h2>\n",
    "Researchers studying the relationship between honesty, age and selfcontrol conducted an experiment on 160 children between the ages of 5 and 15. Participants reported their\n",
    "age, sex, and whether they were an only child or not. The researchers asked each child to toss a fair coin\n",
    "in private and to record the outcome (white or black) on a paper sheet, and said they would only reward\n",
    "children who report white. The study’s findings can be summarized as follows: “Half the students were\n",
    "explicitly told not to cheat and the others were not given any explicit instructions. In the no instruction\n",
    "group probability of cheating was found to be uniform across groups based on child’s characteristics. In the\n",
    "group that was explicitly told to not cheat, girls were less likely to cheat, and while rate of cheating didn’t\n",
    "vary by age for boys, it decreased with age for girls.”12\n",
    "(a) Identify the main research question of the study.\n",
    "(b) Who are the subjects in this study, and how many are included?\n",
    "(c) How many variables were recorded for each subject in the study in order to conclude these findings?"
   ]
  },
  {
   "cell_type": "markdown",
   "metadata": {},
   "source": [
    "(a) \n",
    "A principal questão de pesquisa do estudo é investigar como a honestidade (ou a probabilidade de trapacear) em crianças varia de acordo com:\n",
    " - Idade,\n",
    "\n",
    " - Sexo (gênero),\n",
    "\n",
    " - Condição de ser filho único ou não,\n",
    "\n",
    " - Efeito de instruções explícitas contra trapaça (comparando grupos com e sem aviso).\n",
    "\n",
    "O estudo busca entender se fatores como autocontrole, desenvolvimento moral e influências sociais afetam o comportamento desonesto em diferentes idades e gêneros.\n",
    "\n",
    "(b)\n",
    "Os sujeitos do estudo são 160 crianças com idades entre 5 e 15 anos.\n",
    "\n",
    "(c) \n",
    "Foram registradas cinco variáveis para cada participante:\n",
    "\n",
    " - Idade (variável quantitativa contínua ou discreta, dependendo do tratamento estatístico):\n",
    "\n",
    "    - Valores: idade em anos (5, 6, ..., 15).\n",
    "\n",
    " - Sexo (gênero) (variável categórica nominal):\n",
    "\n",
    "    - Valores: \"menino\" ou \"menina\".\n",
    "\n",
    " - Condição de filho único (variável categórica nominal):\n",
    "\n",
    "    - Valores: \"sim\" ou \"não\".\n",
    "\n",
    " - Grupo de instrução (variável categórica nominal):\n",
    "\n",
    "    - Valores: \"recebeu instrução explícita para não trapacear\" vs. \"não recebeu instrução\".\n",
    "\n",
    "- Resultado do lançamento da moeda (honestidade/trapaça) (variável categórica nominal ou binária):\n",
    "\n",
    "    - Valores: \"preto\" (possivelmente trapaceou) ou \"branco\" (honesto).\n",
    "\n",
    "Variável derivada (implícita no estudo):\n",
    "\n",
    "Taxa de trapaça (calculada comparando o número de \"brancos\" relatados acima do esperado pelo acaso)."
   ]
  },
  {
   "cell_type": "markdown",
   "metadata": {},
   "source": [
    "<h2>Cats on YouTube.</h2>\n",
    "Suppose you want to estimate the percentage of videos on YouTube that are cat\n",
    "videos. It is impossible for you to watch all videos on YouTube so you use a random video picker to select\n",
    "1000 videos for you. You find that 2% of these videos are cat videos. Determine which of the following is an\n",
    "observation, a variable, a sample statistic (value calculated based on the observed sample), or a population\n",
    "parameter.\n",
    "(a) Percentage of all videos on YouTube that are cat videos.\n",
    "(b) 2%.\n",
    "(c) A video in your sample.\n",
    "(d) Whether or not a video is a cat video."
   ]
  },
  {
   "cell_type": "markdown",
   "metadata": {},
   "source": [
    "(a) \n",
    "Population parameter (parâmetro populacional).\n",
    "\n",
    "Explicação: Representa a verdadeira proporção (fixa, mas desconhecida) de vídeos de gatos em toda a população de vídeos do YouTube. Como não podemos observar todos os vídeos, esse valor é teórico e estimado a partir da amostra.\n",
    "\n",
    "(b) \n",
    "Sample statistic (estatística amostral).\n",
    "\n",
    "Explicação: É o valor calculado com base na amostra de 1000 vídeos (2% deles eram de gatos). Serve como estimativa do parâmetro populacional.\n",
    "\n",
    "(c)\n",
    "Observation (observação).\n",
    "\n",
    "Explicação: Corresponde a uma unidade individual (um vídeo específico) dentro da amostra coletada.\n",
    "\n",
    "(d)\n",
    "Variable (variável).\n",
    "\n",
    "Explicação: É a característica medida para cada vídeo na amostra. Trata-se de uma variável categórica binária (valores: \"sim\" ou \"não\")."
   ]
  }
 ],
 "metadata": {
  "colab": {
   "name": "Análise_Descritiva.ipynb",
   "provenance": [],
   "toc_visible": true,
   "version": "0.3.2"
  },
  "kernelspec": {
   "display_name": "Python 3",
   "language": "python",
   "name": "python3"
  },
  "language_info": {
   "codemirror_mode": {
    "name": "ipython",
    "version": 3
   },
   "file_extension": ".py",
   "mimetype": "text/x-python",
   "name": "python",
   "nbconvert_exporter": "python",
   "pygments_lexer": "ipython3",
   "version": "3.11.9"
  }
 },
 "nbformat": 4,
 "nbformat_minor": 4
}
