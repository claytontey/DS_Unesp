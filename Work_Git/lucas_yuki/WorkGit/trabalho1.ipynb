{
 "cells": [
  {
   "cell_type": "code",
   "execution_count": 1,
   "id": "10520d0b-d898-4035-bd7b-5656250c99fd",
   "metadata": {},
   "outputs": [],
   "source": [
    "import pandas as pd"
   ]
  },
  {
   "cell_type": "code",
   "execution_count": 43,
   "id": "2fa57159-7e70-498c-b0fd-6864d4121946",
   "metadata": {},
   "outputs": [
    {
     "name": "stdout",
     "output_type": "stream",
     "text": [
      "['Year', 'Month', 'DayofMonth', 'DayOfWeek', 'DepTime', 'CRSDepTime', 'ArrTime', 'CRSArrTime', 'UniqueCarrier', 'FlightNum', 'TailNum', 'ActualElapsedTime', 'CRSElapsedTime', 'AirTime', 'ArrDelay', 'DepDelay', 'Origin', 'Dest', 'Distance', 'TaxiIn', 'TaxiOut', 'Cancelled', 'CancellationCode', 'Diverted', 'CarrierDelay', 'WeatherDelay', 'NASDelay', 'SecurityDelay', 'LateAircraftDelay']\n"
     ]
    }
   ],
   "source": [
    "df = pd.read_csv('2006-sample.csv')\n",
    "\n",
    "# Exibindo os nomes das colunas como uma lista\n",
    "print(list(df.columns))"
   ]
  },
  {
   "cell_type": "code",
   "execution_count": 78,
   "id": "49267d5a-db70-4a9b-8569-b77396d02a1b",
   "metadata": {},
   "outputs": [
    {
     "data": {
      "text/html": [
       "<div>\n",
       "<style scoped>\n",
       "    .dataframe tbody tr th:only-of-type {\n",
       "        vertical-align: middle;\n",
       "    }\n",
       "\n",
       "    .dataframe tbody tr th {\n",
       "        vertical-align: top;\n",
       "    }\n",
       "\n",
       "    .dataframe thead th {\n",
       "        text-align: right;\n",
       "    }\n",
       "</style>\n",
       "<table border=\"1\" class=\"dataframe\">\n",
       "  <thead>\n",
       "    <tr style=\"text-align: right;\">\n",
       "      <th></th>\n",
       "      <th>UniqueCarrier</th>\n",
       "      <th>CarrierDelay</th>\n",
       "      <th>WeatherDelay</th>\n",
       "      <th>NASDelay</th>\n",
       "      <th>SecurityDelay</th>\n",
       "      <th>LateAircraftDelay</th>\n",
       "    </tr>\n",
       "  </thead>\n",
       "  <tbody>\n",
       "    <tr>\n",
       "      <th>0</th>\n",
       "      <td>MQ</td>\n",
       "      <td>0</td>\n",
       "      <td>0</td>\n",
       "      <td>0</td>\n",
       "      <td>0</td>\n",
       "      <td>0</td>\n",
       "    </tr>\n",
       "    <tr>\n",
       "      <th>1</th>\n",
       "      <td>DL</td>\n",
       "      <td>5</td>\n",
       "      <td>0</td>\n",
       "      <td>0</td>\n",
       "      <td>0</td>\n",
       "      <td>11</td>\n",
       "    </tr>\n",
       "    <tr>\n",
       "      <th>2</th>\n",
       "      <td>WN</td>\n",
       "      <td>0</td>\n",
       "      <td>0</td>\n",
       "      <td>6</td>\n",
       "      <td>0</td>\n",
       "      <td>36</td>\n",
       "    </tr>\n",
       "    <tr>\n",
       "      <th>3</th>\n",
       "      <td>AS</td>\n",
       "      <td>0</td>\n",
       "      <td>0</td>\n",
       "      <td>0</td>\n",
       "      <td>0</td>\n",
       "      <td>0</td>\n",
       "    </tr>\n",
       "    <tr>\n",
       "      <th>4</th>\n",
       "      <td>US</td>\n",
       "      <td>0</td>\n",
       "      <td>0</td>\n",
       "      <td>0</td>\n",
       "      <td>0</td>\n",
       "      <td>0</td>\n",
       "    </tr>\n",
       "    <tr>\n",
       "      <th>...</th>\n",
       "      <td>...</td>\n",
       "      <td>...</td>\n",
       "      <td>...</td>\n",
       "      <td>...</td>\n",
       "      <td>...</td>\n",
       "      <td>...</td>\n",
       "    </tr>\n",
       "    <tr>\n",
       "      <th>71414</th>\n",
       "      <td>XE</td>\n",
       "      <td>0</td>\n",
       "      <td>0</td>\n",
       "      <td>0</td>\n",
       "      <td>0</td>\n",
       "      <td>0</td>\n",
       "    </tr>\n",
       "    <tr>\n",
       "      <th>71415</th>\n",
       "      <td>WN</td>\n",
       "      <td>0</td>\n",
       "      <td>0</td>\n",
       "      <td>0</td>\n",
       "      <td>0</td>\n",
       "      <td>0</td>\n",
       "    </tr>\n",
       "    <tr>\n",
       "      <th>71416</th>\n",
       "      <td>OH</td>\n",
       "      <td>0</td>\n",
       "      <td>0</td>\n",
       "      <td>16</td>\n",
       "      <td>0</td>\n",
       "      <td>0</td>\n",
       "    </tr>\n",
       "    <tr>\n",
       "      <th>71417</th>\n",
       "      <td>WN</td>\n",
       "      <td>0</td>\n",
       "      <td>0</td>\n",
       "      <td>0</td>\n",
       "      <td>0</td>\n",
       "      <td>0</td>\n",
       "    </tr>\n",
       "    <tr>\n",
       "      <th>71418</th>\n",
       "      <td>UA</td>\n",
       "      <td>0</td>\n",
       "      <td>0</td>\n",
       "      <td>0</td>\n",
       "      <td>0</td>\n",
       "      <td>0</td>\n",
       "    </tr>\n",
       "  </tbody>\n",
       "</table>\n",
       "<p>71419 rows × 6 columns</p>\n",
       "</div>"
      ],
      "text/plain": [
       "      UniqueCarrier  CarrierDelay  WeatherDelay  NASDelay  SecurityDelay  \\\n",
       "0                MQ             0             0         0              0   \n",
       "1                DL             5             0         0              0   \n",
       "2                WN             0             0         6              0   \n",
       "3                AS             0             0         0              0   \n",
       "4                US             0             0         0              0   \n",
       "...             ...           ...           ...       ...            ...   \n",
       "71414            XE             0             0         0              0   \n",
       "71415            WN             0             0         0              0   \n",
       "71416            OH             0             0        16              0   \n",
       "71417            WN             0             0         0              0   \n",
       "71418            UA             0             0         0              0   \n",
       "\n",
       "       LateAircraftDelay  \n",
       "0                      0  \n",
       "1                     11  \n",
       "2                     36  \n",
       "3                      0  \n",
       "4                      0  \n",
       "...                  ...  \n",
       "71414                  0  \n",
       "71415                  0  \n",
       "71416                  0  \n",
       "71417                  0  \n",
       "71418                  0  \n",
       "\n",
       "[71419 rows x 6 columns]"
      ]
     },
     "execution_count": 78,
     "metadata": {},
     "output_type": "execute_result"
    }
   ],
   "source": [
    "#filtered_df = df[df['FlightNum'] == 740][['UniqueCarrier', 'FlightNum']]\n",
    "#filtered_df\n",
    "df[['UniqueCarrier','CarrierDelay', 'WeatherDelay', 'NASDelay', 'SecurityDelay', 'LateAircraftDelay']]"
   ]
  },
  {
   "cell_type": "code",
   "execution_count": 15,
   "id": "d4b92720-3b14-4757-a957-9ae2e2583608",
   "metadata": {},
   "outputs": [],
   "source": [
    "df = df.fillna(0)\n",
    "df[['ArrDelay', 'DepDelay']] = df[['ArrDelay', 'DepDelay']].astype(int)"
   ]
  },
  {
   "cell_type": "markdown",
   "id": "45b9b426-4b6c-4bf2-a89d-2b6599383cfb",
   "metadata": {},
   "source": [
    "# 1 - Descobrir a quantiade de atrasos de uma dada companhia passada como parâmetro."
   ]
  },
  {
   "cell_type": "code",
   "execution_count": 105,
   "id": "a30fabed-14e0-4fe3-a473-2081a348d22e",
   "metadata": {},
   "outputs": [
    {
     "name": "stdout",
     "output_type": "stream",
     "text": [
      "A quantidade de atrasos para a companhia B6 é:\n",
      "Na chegada: 769\n",
      "Na partida: 657\n",
      "Pela companhia: 179\n",
      "Pelo clima: 9\n",
      "Pelo sistema nacional: 329\n",
      "Por segurança: 2\n",
      "Por conta de outras aeronaves: 239\n",
      "O numero total de atrasos (de chegada + partida) = 1426 para a empresa B6\n"
     ]
    }
   ],
   "source": [
    "company = 'B6'\n",
    "print(f\"A quantidade de atrasos para a companhia {company} é:\")\n",
    "\n",
    "Arr_lates = df[(df['UniqueCarrier'] == company) & (df['ArrDelay'] > 0)].shape[0]\n",
    "print(f\"Na chegada: {Arr_lates}\")\n",
    "\n",
    "Dep_lates = df[(df['UniqueCarrier'] == company) & (df['DepDelay'] > 0)].shape[0]\n",
    "print(f\"Na partida: {Dep_lates}\")\n",
    "\n",
    "Carrier_lates = df[(df['UniqueCarrier'] == company) & (df['CarrierDelay'] > 0)].shape[0]\n",
    "print(f\"Pela companhia: {Carrier_lates}\")\n",
    "\n",
    "Weather_lates = df[(df['UniqueCarrier'] == company) & (df['WeatherDelay'] > 0)].shape[0]\n",
    "print(f\"Pelo clima: {Weather_lates}\")\n",
    "\n",
    "NAS_lates = df[(df['UniqueCarrier'] == company) & (df['NASDelay'] > 0)].shape[0]\n",
    "print(f\"Pelo sistema nacional: {NAS_lates}\")\n",
    "\n",
    "Security_lates = df[(df['UniqueCarrier'] == company) & (df['SecurityDelay'] > 0)].shape[0]\n",
    "print(f\"Por segurança: {Security_lates}\")\n",
    "\n",
    "Aircraft_lates = df[(df['UniqueCarrier'] == company) & (df['LateAircraftDelay'] > 0)].shape[0]\n",
    "print(f\"Por conta de outras aeronaves: {Aircraft_lates}\")\n",
    "\n",
    "Total_lates = Arr_lates+Dep_lates\n",
    "print(f'O numero total de atrasos (de chegada + partida) = {Total_lates} para a empresa {company}')"
   ]
  },
  {
   "cell_type": "markdown",
   "id": "f5405f4e-d1a8-4d84-a6db-e359a1f00645",
   "metadata": {},
   "source": [
    "# 2 - Descobrir o vôo com maior atraso na chegada (`ArrDelay`) registrado."
   ]
  },
  {
   "cell_type": "code",
   "execution_count": null,
   "id": "d33fd819-bd5e-4752-8638-3bf2319f5c70",
   "metadata": {},
   "outputs": [],
   "source": [
    "most_late = df['ArrDelay'].max()\n",
    "\n",
    "# Encontrar o voo com o maior atraso\n",
    "flight_with_max_delay = df[df['ArrDelay'] == most_late]['FlightNum']\n",
    "day_late = df[df['ArrDelay'] == most_late]['DayofMonth']\n",
    "month_late = df[df['ArrDelay'] == most_late]['Month']\n",
    "\n",
    "# Exibir o número do voo com maior atraso\n",
    "print(f'O voo com maior atraso na chegada foi o numero:{flight_with_max_delay.values} do dia {day_late.values} do mês {month_late.values}')"
   ]
  },
  {
   "cell_type": "markdown",
   "id": "4d6ea1fd-b5e8-4eba-a021-52e73abe33b9",
   "metadata": {},
   "source": [
    "# 3 - Descobrir o vôo com maior atraso na saída (`DepDelay`) registrado."
   ]
  },
  {
   "cell_type": "code",
   "execution_count": null,
   "id": "6c9bca80-b5d4-4308-8750-36a9d8bd2077",
   "metadata": {},
   "outputs": [],
   "source": [
    "most_late_dep = df['DepDelay'].max()\n",
    "\n",
    "flight_with_max_delay_dep = df[df['DepDelay'] == most_late_dep]['FlightNum']\n",
    "day_dep_late = df[df['DepDelay'] == most_late_dep]['DayofMonth']\n",
    "month_dep_late = df[df['DepDelay'] == most_late_dep]['Month']\n",
    "\n",
    "print(f'O voo com maior atraso na saída foi o numero:{flight_with_max_delay_dep.values} do dia {day_dep_late.values} do mês {month_dep_late.values}')"
   ]
  },
  {
   "cell_type": "markdown",
   "id": "0933ea09-15b6-4c2f-99bc-b64cd444552c",
   "metadata": {},
   "source": [
    "# 4 - Descobrir o vôo mais longo."
   ]
  },
  {
   "cell_type": "code",
   "execution_count": null,
   "id": "7a0dbe01-ad22-4dac-a4f2-6bc60735a6d3",
   "metadata": {},
   "outputs": [],
   "source": [
    "most_far = df['Distance'].max()\n",
    "flight_most_distant = df[df['Distance'] == most_far]['FlightNum']\n",
    "print(f'O(s) voo(s) mais distante(s): {flight_most_distant.values} com {most_far} de distância')"
   ]
  },
  {
   "cell_type": "markdown",
   "id": "d68c9893-8a43-4a40-a406-1f3e813fa4b9",
   "metadata": {},
   "source": [
    "# 5 - Contar quantos vôos precisaram ser redirecionados (`Diverted`)."
   ]
  },
  {
   "cell_type": "code",
   "execution_count": null,
   "id": "d6151e8d-a071-4d95-95bb-9335fe93411d",
   "metadata": {},
   "outputs": [],
   "source": [
    "print(f'{df['Diverted'].sum()} voos precisaram ser redirecionados')"
   ]
  },
  {
   "cell_type": "markdown",
   "id": "6d111700-52f0-40ea-8e8b-6fbf33ae2a89",
   "metadata": {},
   "source": [
    "# 6 - Utilizando a dica [nessa resposta](https://stackoverflow.com/a/3096575), calcular o tempo de atraso total para a companhia `Delta Air Lines`. Não esquecer de filtrar linhas com dados faltando e também com valores negativos (casos em que os vôos são adiantados) "
   ]
  },
  {
   "cell_type": "code",
   "execution_count": 129,
   "id": "b9e62c39-f138-481f-ac07-39012c6d3217",
   "metadata": {},
   "outputs": [
    {
     "name": "stdout",
     "output_type": "stream",
     "text": [
      "O atraso por decolagens foi 52758.0\n",
      "O atraso na chegada foi 63427.0\n",
      "O atraso por motivos internos foi 17409\n",
      "O atraso por clima foi 1716\n",
      "O atraso por NAS foi 20096\n",
      "O atraso por segurança foi 122\n",
      "O atraso por atraso externo foi 16763\n"
     ]
    }
   ],
   "source": [
    "DL_flights = df[df['UniqueCarrier'] == 'DL']\n",
    "\n",
    "\n",
    "DL_dep = DL_flights[DL_flights['DepDelay'] > 0]['DepDelay'].sum()\n",
    "print(f'O atraso por decolagens foi {DL_dep}')\n",
    "\n",
    "DL_arr = DL_flights[DL_flights['ArrDelay'] > 0]['ArrDelay'].sum()\n",
    "print(f'O atraso na chegada foi {DL_arr}')\n",
    "\n",
    "DL_carrier = DL_flights[DL_flights['CarrierDelay'] > 0]['CarrierDelay'].sum()\n",
    "print(f'O atraso por motivos internos foi {DL_carrier}')\n",
    "\n",
    "DL_weather = DL_flights[DL_flights['WeatherDelay'] > 0]['WeatherDelay'].sum()\n",
    "print(f'O atraso por clima foi {DL_weather}')\n",
    "\n",
    "DL_nas = DL_flights[DL_flights['NASDelay'] > 0]['NASDelay'].sum()\n",
    "print(f'O atraso por NAS foi {DL_nas}')\n",
    "\n",
    "DL_security = DL_flights[DL_flights['SecurityDelay'] > 0]['SecurityDelay'].sum()\n",
    "print(f'O atraso por segurança foi {DL_security}')\n",
    "\n",
    "DL_aircraft = DL_flights[DL_flights['LateAircraftDelay'] > 0]['LateAircraftDelay'].sum()\n",
    "print(f'O atraso por atraso externo foi {DL_aircraft}')\n",
    "\n"
   ]
  },
  {
   "cell_type": "markdown",
   "id": "4baebf18-2093-4ec8-8a0b-54ef0e4e06a7",
   "metadata": {},
   "source": [
    "# 7 Mostrar o tempo total de atrasos para a decolagem de vôos no aeroporto `JFK`, de Nova Iorque."
   ]
  },
  {
   "cell_type": "code",
   "execution_count": 99,
   "id": "e2978394-25cd-45fe-be8a-73c087757fae",
   "metadata": {},
   "outputs": [
    {
     "name": "stdout",
     "output_type": "stream",
     "text": [
      "O atraso total para decolagem no aeroporto JFK foi de:\n"
     ]
    },
    {
     "data": {
      "text/plain": [
       "16065.0"
      ]
     },
     "execution_count": 99,
     "metadata": {},
     "output_type": "execute_result"
    }
   ],
   "source": [
    "print('O atraso total para decolagem no aeroporto JFK foi de:')\n",
    "jfk_flights = df[df['Origin'] == 'JFK']\n",
    "jfk_flights_late = jfk_flights[jfk_flights['DepDelay'] > 0]\n",
    "jfk_flights_late['DepDelay'].sum()"
   ]
  }
 ],
 "metadata": {
  "kernelspec": {
   "display_name": "Python 3 (ipykernel)",
   "language": "python",
   "name": "python3"
  },
  "language_info": {
   "codemirror_mode": {
    "name": "ipython",
    "version": 3
   },
   "file_extension": ".py",
   "mimetype": "text/x-python",
   "name": "python",
   "nbconvert_exporter": "python",
   "pygments_lexer": "ipython3",
   "version": "3.12.4"
  }
 },
 "nbformat": 4,
 "nbformat_minor": 5
}
