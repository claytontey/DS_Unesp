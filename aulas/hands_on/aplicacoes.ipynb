{
 "cells": [
  {
   "cell_type": "markdown",
   "id": "afa8487a-cf03-4062-9b73-60feef7c0da7",
   "metadata": {},
   "source": [
    "# Aula Hands-on Ciência de Dados (Fechamento do Semestre)\n",
    "\n",
    "Esse [Mapa Mental](https://notebooklm.google.com/notebook/db262d3f-e3ae-4f01-9d5a-53a5ef310742), apresenta o conteúdo ministrado neste semestre com relação aos estudos de estatística e métodos para análise de dados.\n",
    "\n",
    "# Vamos iniciar falando sobre a análise de frequencia\n",
    "\n",
    "| Tipo                           | Descrição                                                   |\n",
    "| ------------------------------ | ----------------------------------------------------------- |\n",
    "| **Frequência absoluta (fi)**   | Número de vezes que um valor aparece.                       |\n",
    "| **Frequência relativa (fr)**   | Proporção do valor em relação ao total. $fr = \\frac{fi}{n} * 100$ |\n",
    "| **Frequência acumulada (Fac)** | Soma das frequências até aquele ponto.                      |\n"
   ]
  },
  {
   "cell_type": "markdown",
   "id": "519022f9-7097-4bc0-a933-5aa11d553ff0",
   "metadata": {},
   "source": [
    "## Exemplo 1:\n",
    "\n",
    "Uma cafeteria registrou, durante 30 dias, quantos cafés foram vendidos por dia."
   ]
  },
  {
   "cell_type": "code",
   "execution_count": 28,
   "id": "7bfc1ba8-e52f-4557-9563-2cc8db820d36",
   "metadata": {},
   "outputs": [
    {
     "data": {
      "text/plain": [
       "array([35, 28, 34, 38, 40, 37, 41, 33, 36, 29, 31, 32, 34, 39, 40, 30, 29,\n",
       "       36, 32, 33, 35, 37, 39, 40, 38, 36, 35, 37, 34, 36])"
      ]
     },
     "execution_count": 28,
     "metadata": {},
     "output_type": "execute_result"
    }
   ],
   "source": [
    "import pandas as pd\n",
    "import numpy as np\n",
    "import matplotlib.pyplot as plt\n",
    "from scipy import stats\n",
    "import seaborn as sns\n",
    "import warnings\n",
    "warnings.filterwarnings('ignore')\n",
    "\n",
    "\n",
    "vendas = np.array([35, 28, 34, 38, 40, 37, 41, 33, 36, 29,\n",
    "          31, 32, 34, 39, 40, 30, 29, 36, 32, 33,\n",
    "          35, 37, 39, 40, 38, 36, 35, 37, 34, 36])\n",
    "vendas"
   ]
  },
  {
   "cell_type": "code",
   "execution_count": 3,
   "id": "77927bb5-4d0a-4669-9f95-9b7db24be937",
   "metadata": {},
   "outputs": [
    {
     "data": {
      "text/plain": [
       "28    1\n",
       "29    2\n",
       "30    1\n",
       "31    1\n",
       "32    2\n",
       "33    2\n",
       "34    3\n",
       "35    3\n",
       "36    4\n",
       "37    3\n",
       "38    2\n",
       "39    2\n",
       "40    3\n",
       "41    1\n",
       "Name: count, dtype: int64"
      ]
     },
     "execution_count": 3,
     "metadata": {},
     "output_type": "execute_result"
    }
   ],
   "source": [
    "# Frequência absoluta\n",
    "freq_abs = pd.Series(vendas).value_counts().sort_index()\n",
    "freq_abs"
   ]
  },
  {
   "cell_type": "code",
   "execution_count": 10,
   "id": "9a7f506d-169b-4390-a29f-04fda6d7388a",
   "metadata": {},
   "outputs": [
    {
     "data": {
      "image/png": "[encoded data removed]",
      "text/plain": [
       "<Figure size 1000x500 with 1 Axes>"
      ]
     },
     "metadata": {},
     "output_type": "display_data"
    }
   ],
   "source": [
    "# Gráfico de barras da frequência absoluta\n",
    "plt.figure(figsize=(10, 5))\n",
    "freq_abs.plot(kind='bar')\n",
    "plt.title(\"Frequência Absoluta de Vendas de Café por Dia\")\n",
    "plt.xlabel(\"Quantidade de Cafés Vendidos\")\n",
    "plt.ylabel(\"Frequência Absoluta\")\n",
    "plt.grid(axis='y')\n",
    "plt.tight_layout()\n",
    "plt.show()"
   ]
  },
  {
   "cell_type": "code",
   "execution_count": 12,
   "id": "17b8ca77-469a-4e6a-ad56-92529c019f4b",
   "metadata": {},
   "outputs": [
    {
     "data": {
      "text/plain": [
       "28     3.333333\n",
       "29     6.666667\n",
       "30     3.333333\n",
       "31     3.333333\n",
       "32     6.666667\n",
       "33     6.666667\n",
       "34    10.000000\n",
       "35    10.000000\n",
       "36    13.333333\n",
       "37    10.000000\n",
       "38     6.666667\n",
       "39     6.666667\n",
       "40    10.000000\n",
       "41     3.333333\n",
       "Name: count, dtype: float64"
      ]
     },
     "execution_count": 12,
     "metadata": {},
     "output_type": "execute_result"
    }
   ],
   "source": [
    "# Frequência relativa\n",
    "freq_rel = (freq_abs / len(vendas))*100\n",
    "freq_rel"
   ]
  },
  {
   "cell_type": "code",
   "execution_count": 13,
   "id": "b47ce77e-455d-451d-9940-afcc4d9e334d",
   "metadata": {},
   "outputs": [
    {
     "data": {
      "text/plain": [
       "28     1\n",
       "29     3\n",
       "30     4\n",
       "31     5\n",
       "32     7\n",
       "33     9\n",
       "34    12\n",
       "35    15\n",
       "36    19\n",
       "37    22\n",
       "38    24\n",
       "39    26\n",
       "40    29\n",
       "41    30\n",
       "Name: count, dtype: int64"
      ]
     },
     "execution_count": 13,
     "metadata": {},
     "output_type": "execute_result"
    }
   ],
   "source": [
    "# Frequência acumulada\n",
    "freq_acum = freq_abs.cumsum()\n",
    "freq_acum"
   ]
  },
  {
   "cell_type": "code",
   "execution_count": 15,
   "id": "858bb2c0-dc73-421e-a437-7a798584618c",
   "metadata": {},
   "outputs": [
    {
     "data": {
      "text/html": [
       "<div>\n",
       "<style scoped>\n",
       "    .dataframe tbody tr th:only-of-type {\n",
       "        vertical-align: middle;\n",
       "    }\n",
       "\n",
       "    .dataframe tbody tr th {\n",
       "        vertical-align: top;\n",
       "    }\n",
       "\n",
       "    .dataframe thead th {\n",
       "        text-align: right;\n",
       "    }\n",
       "</style>\n",
       "<table border=\"1\" class=\"dataframe\">\n",
       "  <thead>\n",
       "    <tr style=\"text-align: right;\">\n",
       "      <th></th>\n",
       "      <th>Qtd de Cafés</th>\n",
       "      <th>Frequência Absoluta</th>\n",
       "      <th>Frequência Relativa (%)</th>\n",
       "      <th>Frequência Acumulada</th>\n",
       "    </tr>\n",
       "  </thead>\n",
       "  <tbody>\n",
       "    <tr>\n",
       "      <th>0</th>\n",
       "      <td>28</td>\n",
       "      <td>1</td>\n",
       "      <td>3.33</td>\n",
       "      <td>1</td>\n",
       "    </tr>\n",
       "    <tr>\n",
       "      <th>1</th>\n",
       "      <td>29</td>\n",
       "      <td>2</td>\n",
       "      <td>6.67</td>\n",
       "      <td>3</td>\n",
       "    </tr>\n",
       "    <tr>\n",
       "      <th>2</th>\n",
       "      <td>30</td>\n",
       "      <td>1</td>\n",
       "      <td>3.33</td>\n",
       "      <td>4</td>\n",
       "    </tr>\n",
       "    <tr>\n",
       "      <th>3</th>\n",
       "      <td>31</td>\n",
       "      <td>1</td>\n",
       "      <td>3.33</td>\n",
       "      <td>5</td>\n",
       "    </tr>\n",
       "    <tr>\n",
       "      <th>4</th>\n",
       "      <td>32</td>\n",
       "      <td>2</td>\n",
       "      <td>6.67</td>\n",
       "      <td>7</td>\n",
       "    </tr>\n",
       "    <tr>\n",
       "      <th>5</th>\n",
       "      <td>33</td>\n",
       "      <td>2</td>\n",
       "      <td>6.67</td>\n",
       "      <td>9</td>\n",
       "    </tr>\n",
       "    <tr>\n",
       "      <th>6</th>\n",
       "      <td>34</td>\n",
       "      <td>3</td>\n",
       "      <td>10.00</td>\n",
       "      <td>12</td>\n",
       "    </tr>\n",
       "    <tr>\n",
       "      <th>7</th>\n",
       "      <td>35</td>\n",
       "      <td>3</td>\n",
       "      <td>10.00</td>\n",
       "      <td>15</td>\n",
       "    </tr>\n",
       "    <tr>\n",
       "      <th>8</th>\n",
       "      <td>36</td>\n",
       "      <td>4</td>\n",
       "      <td>13.33</td>\n",
       "      <td>19</td>\n",
       "    </tr>\n",
       "    <tr>\n",
       "      <th>9</th>\n",
       "      <td>37</td>\n",
       "      <td>3</td>\n",
       "      <td>10.00</td>\n",
       "      <td>22</td>\n",
       "    </tr>\n",
       "    <tr>\n",
       "      <th>10</th>\n",
       "      <td>38</td>\n",
       "      <td>2</td>\n",
       "      <td>6.67</td>\n",
       "      <td>24</td>\n",
       "    </tr>\n",
       "    <tr>\n",
       "      <th>11</th>\n",
       "      <td>39</td>\n",
       "      <td>2</td>\n",
       "      <td>6.67</td>\n",
       "      <td>26</td>\n",
       "    </tr>\n",
       "    <tr>\n",
       "      <th>12</th>\n",
       "      <td>40</td>\n",
       "      <td>3</td>\n",
       "      <td>10.00</td>\n",
       "      <td>29</td>\n",
       "    </tr>\n",
       "    <tr>\n",
       "      <th>13</th>\n",
       "      <td>41</td>\n",
       "      <td>1</td>\n",
       "      <td>3.33</td>\n",
       "      <td>30</td>\n",
       "    </tr>\n",
       "  </tbody>\n",
       "</table>\n",
       "</div>"
      ],
      "text/plain": [
       "    Qtd de Cafés  Frequência Absoluta  Frequência Relativa (%)  \\\n",
       "0             28                    1                     3.33   \n",
       "1             29                    2                     6.67   \n",
       "2             30                    1                     3.33   \n",
       "3             31                    1                     3.33   \n",
       "4             32                    2                     6.67   \n",
       "5             33                    2                     6.67   \n",
       "6             34                    3                    10.00   \n",
       "7             35                    3                    10.00   \n",
       "8             36                    4                    13.33   \n",
       "9             37                    3                    10.00   \n",
       "10            38                    2                     6.67   \n",
       "11            39                    2                     6.67   \n",
       "12            40                    3                    10.00   \n",
       "13            41                    1                     3.33   \n",
       "\n",
       "    Frequência Acumulada  \n",
       "0                      1  \n",
       "1                      3  \n",
       "2                      4  \n",
       "3                      5  \n",
       "4                      7  \n",
       "5                      9  \n",
       "6                     12  \n",
       "7                     15  \n",
       "8                     19  \n",
       "9                     22  \n",
       "10                    24  \n",
       "11                    26  \n",
       "12                    29  \n",
       "13                    30  "
      ]
     },
     "execution_count": 15,
     "metadata": {},
     "output_type": "execute_result"
    }
   ],
   "source": [
    "# Tabela\n",
    "tabela_freq = pd.DataFrame({\n",
    "    \"Qtd de Cafés\": freq_abs.index,\n",
    "    \"Frequência Absoluta\": freq_abs.values,\n",
    "    \"Frequência Relativa (%)\": (freq_rel.values).round(2),\n",
    "    \"Frequência Acumulada\": freq_acum.values\n",
    "})\n",
    "\n",
    "tabela_freq.reset_index(drop=True, inplace=True)\n",
    "tabela_freq"
   ]
  },
  {
   "cell_type": "code",
   "execution_count": 11,
   "id": "3f56d6cf-640b-4056-8313-4906aca66842",
   "metadata": {},
   "outputs": [
    {
     "data": {
      "image/png": "[encoded data removed]",
      "text/plain": [
       "<Figure size 1000x500 with 1 Axes>"
      ]
     },
     "metadata": {},
     "output_type": "display_data"
    }
   ],
   "source": [
    "# Histograma das vendas\n",
    "plt.figure(figsize=(10, 5))\n",
    "plt.hist(vendas, bins=range(min(vendas), max(vendas)+2), edgecolor='black', align='left')\n",
    "plt.title(\"Histograma de Vendas de Café por Dia\")\n",
    "plt.xlabel(\"Quantidade de Cafés Vendidos\")\n",
    "plt.ylabel(\"Frequência\")\n",
    "plt.grid(axis='y')\n",
    "plt.tight_layout()\n",
    "plt.show()"
   ]
  },
  {
   "cell_type": "markdown",
   "id": "89a886b7-3cf0-4c7a-bb6b-39a9d3f1a4b3",
   "metadata": {},
   "source": [
    "## Perguntas:\n",
    "- Em quantos dias venderam menos que 30 cafés?\n",
    "- Qual a proporção de dias em que venderam 40 ou mais cafés?\n",
    "- Qual a frequência acumulada até 35 cafés?\n",
    "- Qual foi a quantidade de cafés mais vendida?\n",
    "- Quantos dias venderam entre 33 e 37 cafés (inclusive)?"
   ]
  },
  {
   "cell_type": "code",
   "execution_count": 25,
   "id": "114f9e4b-8541-4cdd-8c3d-26edd9365ba1",
   "metadata": {},
   "outputs": [],
   "source": [
    "# Dias com menos de 30 cafés\n",
    "p1 = (vendas < 30).sum()\n",
    "\n",
    "# Proporção de dias com 40 ou mais cafés\n",
    "p2 = ((vendas >= 40).sum() / len(vendas)) * 100\n",
    "\n",
    "# Frequência acumulada até 35 cafés\n",
    "p3 = (vendas <= 35).sum()\n",
    "\n",
    "moda = stats.mode(vendas, keepdims=True)\n",
    "# Moda (valor mais frequente)\n",
    "p4 = moda.mode[0]\n",
    "\n",
    "# Dias com vendas entre 33 e 37 (inclusive)\n",
    "p5 = ((vendas >= 33) & (vendas <= 37)).sum()"
   ]
  },
  {
   "cell_type": "code",
   "execution_count": 27,
   "id": "5e3abe90-634c-4c0c-9a96-fdd58663cc17",
   "metadata": {},
   "outputs": [
    {
     "data": {
      "text/html": [
       "<div>\n",
       "<style scoped>\n",
       "    .dataframe tbody tr th:only-of-type {\n",
       "        vertical-align: middle;\n",
       "    }\n",
       "\n",
       "    .dataframe tbody tr th {\n",
       "        vertical-align: top;\n",
       "    }\n",
       "\n",
       "    .dataframe thead th {\n",
       "        text-align: right;\n",
       "    }\n",
       "</style>\n",
       "<table border=\"1\" class=\"dataframe\">\n",
       "  <thead>\n",
       "    <tr style=\"text-align: right;\">\n",
       "      <th></th>\n",
       "      <th>Dias com &lt; 30 cafés</th>\n",
       "      <th>Proporção com &gt;= 40 cafés (%)</th>\n",
       "      <th>Freq. acumulada até 35 cafés</th>\n",
       "      <th>Moda (qtd. mais vendida)</th>\n",
       "      <th>Dias com vendas entre 33 e 37</th>\n",
       "    </tr>\n",
       "  </thead>\n",
       "  <tbody>\n",
       "    <tr>\n",
       "      <th>0</th>\n",
       "      <td>3</td>\n",
       "      <td>13.33</td>\n",
       "      <td>15</td>\n",
       "      <td>36</td>\n",
       "      <td>15</td>\n",
       "    </tr>\n",
       "  </tbody>\n",
       "</table>\n",
       "</div>"
      ],
      "text/plain": [
       "   Dias com < 30 cafés  Proporção com >= 40 cafés (%)  \\\n",
       "0                    3                          13.33   \n",
       "\n",
       "   Freq. acumulada até 35 cafés  Moda (qtd. mais vendida)  \\\n",
       "0                            15                        36   \n",
       "\n",
       "   Dias com vendas entre 33 e 37  \n",
       "0                             15  "
      ]
     },
     "execution_count": 27,
     "metadata": {},
     "output_type": "execute_result"
    }
   ],
   "source": [
    "respostas = {\n",
    "    \"Dias com < 30 cafés\": p1,\n",
    "    \"Proporção com >= 40 cafés (%)\": round(p2, 2),\n",
    "    \"Freq. acumulada até 35 cafés\": p3,\n",
    "    \"Moda (qtd. mais vendida)\": p4,\n",
    "    \"Dias com vendas entre 33 e 37\": p5\n",
    "}\n",
    "\n",
    "# Exibir como DataFrame\n",
    "df_respostas = pd.DataFrame([respostas])\n",
    "df_respostas"
   ]
  },
  {
   "cell_type": "markdown",
   "id": "c6bf6774-b1f6-41d4-ad6a-416e3dab53aa",
   "metadata": {},
   "source": [
    "## 🧪 PROBLEMA 1 – Qualitativa Nominal (Teste do Qui-quadrado)\n",
    "\n",
    "🎯 Problema:\n",
    "Queremos saber se a preferência por tipo de transporte (carro, ônibus, bicicleta) é diferente entre dois bairros da cidade."
   ]
  },
  {
   "cell_type": "code",
   "execution_count": 29,
   "id": "79ec6b60-8006-460d-9fef-a0bd22c1e685",
   "metadata": {},
   "outputs": [
    {
     "name": "stdout",
     "output_type": "stream",
     "text": [
      "/Users/claytonpereira/Aulas_Unesp/ds/aulas25/DS_Unesp/aulas/exemplos\n"
     ]
    }
   ],
   "source": [
    "!pwd"
   ]
  },
  {
   "cell_type": "code",
   "execution_count": null,
   "id": "06802298-f1af-47c7-8a88-92835138b249",
   "metadata": {},
   "outputs": [],
   "source": []
  }
 ],
 "metadata": {
  "kernelspec": {
   "display_name": "Python 3 (ipykernel)",
   "language": "python",
   "name": "python3"
  },
  "language_info": {
   "codemirror_mode": {
    "name": "ipython",
    "version": 3
   },
   "file_extension": ".py",
   "mimetype": "text/x-python",
   "name": "python",
   "nbconvert_exporter": "python",
   "pygments_lexer": "ipython3",
   "version": "3.12.2"
  }
 },
 "nbformat": 4,
 "nbformat_minor": 5
}
