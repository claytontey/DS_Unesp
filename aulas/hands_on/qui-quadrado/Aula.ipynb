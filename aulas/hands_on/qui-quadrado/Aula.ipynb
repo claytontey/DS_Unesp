{
 "cells": [
  {
   "cell_type": "code",
   "execution_count": 1,
   "id": "189c8517-4898-4271-995d-b7edb859ba26",
   "metadata": {},
   "outputs": [
    {
     "data": {
      "text/plain": [
       "array([35, 28, 34, 38, 40, 37, 41, 33, 36, 29, 31, 32, 34, 39, 40, 30, 29,\n",
       "       36, 32, 33, 35, 37, 39, 40, 38, 36, 35, 37, 34, 36])"
      ]
     },
     "execution_count": 1,
     "metadata": {},
     "output_type": "execute_result"
    }
   ],
   "source": [
    "import pandas as pd\n",
    "import numpy as np\n",
    "import matplotlib.pyplot as plt\n",
    "from scipy import stats\n",
    "import seaborn as sns\n",
    "import warnings\n",
    "warnings.filterwarnings('ignore')\n",
    "\n",
    "\n",
    "vendas = np.array([35, 28, 34, 38, 40, 37, 41, 33, 36, 29,\n",
    "          31, 32, 34, 39, 40, 30, 29, 36, 32, 33,\n",
    "          35, 37, 39, 40, 38, 36, 35, 37, 34, 36])\n",
    "vendas"
   ]
  },
  {
   "cell_type": "code",
   "execution_count": 2,
   "id": "9c6c7143-45d1-4f3e-92df-a07b4f5172d9",
   "metadata": {},
   "outputs": [
    {
     "data": {
      "text/plain": [
       "28    1\n",
       "29    2\n",
       "30    1\n",
       "31    1\n",
       "32    2\n",
       "33    2\n",
       "34    3\n",
       "35    3\n",
       "36    4\n",
       "37    3\n",
       "38    2\n",
       "39    2\n",
       "40    3\n",
       "41    1\n",
       "Name: count, dtype: int64"
      ]
     },
     "execution_count": 2,
     "metadata": {},
     "output_type": "execute_result"
    }
   ],
   "source": [
    "# Frequência absoluta\n",
    "freq_abs = pd.Series(vendas).value_counts().sort_index()\n",
    "freq_abs"
   ]
  },
  {
   "cell_type": "code",
   "execution_count": 8,
   "id": "64941946-2b2c-4710-946f-710ea6afd494",
   "metadata": {},
   "outputs": [
    {
     "data": {
      "image/png": "[encoded data removed]",
      "text/plain": [
       "<Figure size 1000x500 with 1 Axes>"
      ]
     },
     "metadata": {},
     "output_type": "display_data"
    }
   ],
   "source": [
    "# Gráfico de barras da frequência absoluta\n",
    "plt.figure(figsize=(10, 5))\n",
    "freq_abs.plot(kind='bar')\n",
    "plt.title(\"Frequência Absoluta de Vendas de Café por Dia\")\n",
    "plt.xlabel(\"Quantidade de Cafés Vendidos\")\n",
    "plt.ylabel(\"Frequência Absoluta\")\n",
    "plt.grid(axis='y')\n",
    "plt.tight_layout()\n",
    "plt.show()"
   ]
  },
  {
   "cell_type": "code",
   "execution_count": 3,
   "id": "686a20de-8be2-48b3-a299-b1062c180d93",
   "metadata": {},
   "outputs": [
    {
     "data": {
      "text/plain": [
       "28     3.333333\n",
       "29     6.666667\n",
       "30     3.333333\n",
       "31     3.333333\n",
       "32     6.666667\n",
       "33     6.666667\n",
       "34    10.000000\n",
       "35    10.000000\n",
       "36    13.333333\n",
       "37    10.000000\n",
       "38     6.666667\n",
       "39     6.666667\n",
       "40    10.000000\n",
       "41     3.333333\n",
       "Name: count, dtype: float64"
      ]
     },
     "execution_count": 3,
     "metadata": {},
     "output_type": "execute_result"
    }
   ],
   "source": [
    "# Frequência relativa\n",
    "freq_rel = (freq_abs / len(vendas))*100\n",
    "freq_rel"
   ]
  },
  {
   "cell_type": "code",
   "execution_count": 4,
   "id": "2f7d2f7f-9794-4869-8628-cddaea46ced7",
   "metadata": {},
   "outputs": [
    {
     "data": {
      "text/plain": [
       "28     1\n",
       "29     3\n",
       "30     4\n",
       "31     5\n",
       "32     7\n",
       "33     9\n",
       "34    12\n",
       "35    15\n",
       "36    19\n",
       "37    22\n",
       "38    24\n",
       "39    26\n",
       "40    29\n",
       "41    30\n",
       "Name: count, dtype: int64"
      ]
     },
     "execution_count": 4,
     "metadata": {},
     "output_type": "execute_result"
    }
   ],
   "source": [
    "# Frequência acumulada\n",
    "freq_acum = freq_abs.cumsum()\n",
    "freq_acum"
   ]
  },
  {
   "cell_type": "code",
   "execution_count": 5,
   "id": "4e5e7a92-8246-4a06-be6e-cec5d2749157",
   "metadata": {},
   "outputs": [
    {
     "data": {
      "text/html": [
       "<div>\n",
       "<style scoped>\n",
       "    .dataframe tbody tr th:only-of-type {\n",
       "        vertical-align: middle;\n",
       "    }\n",
       "\n",
       "    .dataframe tbody tr th {\n",
       "        vertical-align: top;\n",
       "    }\n",
       "\n",
       "    .dataframe thead th {\n",
       "        text-align: right;\n",
       "    }\n",
       "</style>\n",
       "<table border=\"1\" class=\"dataframe\">\n",
       "  <thead>\n",
       "    <tr style=\"text-align: right;\">\n",
       "      <th></th>\n",
       "      <th>Qtd de Cafés</th>\n",
       "      <th>Frequência Absoluta</th>\n",
       "      <th>Frequência Relativa (%)</th>\n",
       "      <th>Frequência Acumulada</th>\n",
       "    </tr>\n",
       "  </thead>\n",
       "  <tbody>\n",
       "    <tr>\n",
       "      <th>0</th>\n",
       "      <td>28</td>\n",
       "      <td>1</td>\n",
       "      <td>3.33</td>\n",
       "      <td>1</td>\n",
       "    </tr>\n",
       "    <tr>\n",
       "      <th>1</th>\n",
       "      <td>29</td>\n",
       "      <td>2</td>\n",
       "      <td>6.67</td>\n",
       "      <td>3</td>\n",
       "    </tr>\n",
       "    <tr>\n",
       "      <th>2</th>\n",
       "      <td>30</td>\n",
       "      <td>1</td>\n",
       "      <td>3.33</td>\n",
       "      <td>4</td>\n",
       "    </tr>\n",
       "    <tr>\n",
       "      <th>3</th>\n",
       "      <td>31</td>\n",
       "      <td>1</td>\n",
       "      <td>3.33</td>\n",
       "      <td>5</td>\n",
       "    </tr>\n",
       "    <tr>\n",
       "      <th>4</th>\n",
       "      <td>32</td>\n",
       "      <td>2</td>\n",
       "      <td>6.67</td>\n",
       "      <td>7</td>\n",
       "    </tr>\n",
       "    <tr>\n",
       "      <th>5</th>\n",
       "      <td>33</td>\n",
       "      <td>2</td>\n",
       "      <td>6.67</td>\n",
       "      <td>9</td>\n",
       "    </tr>\n",
       "    <tr>\n",
       "      <th>6</th>\n",
       "      <td>34</td>\n",
       "      <td>3</td>\n",
       "      <td>10.00</td>\n",
       "      <td>12</td>\n",
       "    </tr>\n",
       "    <tr>\n",
       "      <th>7</th>\n",
       "      <td>35</td>\n",
       "      <td>3</td>\n",
       "      <td>10.00</td>\n",
       "      <td>15</td>\n",
       "    </tr>\n",
       "    <tr>\n",
       "      <th>8</th>\n",
       "      <td>36</td>\n",
       "      <td>4</td>\n",
       "      <td>13.33</td>\n",
       "      <td>19</td>\n",
       "    </tr>\n",
       "    <tr>\n",
       "      <th>9</th>\n",
       "      <td>37</td>\n",
       "      <td>3</td>\n",
       "      <td>10.00</td>\n",
       "      <td>22</td>\n",
       "    </tr>\n",
       "    <tr>\n",
       "      <th>10</th>\n",
       "      <td>38</td>\n",
       "      <td>2</td>\n",
       "      <td>6.67</td>\n",
       "      <td>24</td>\n",
       "    </tr>\n",
       "    <tr>\n",
       "      <th>11</th>\n",
       "      <td>39</td>\n",
       "      <td>2</td>\n",
       "      <td>6.67</td>\n",
       "      <td>26</td>\n",
       "    </tr>\n",
       "    <tr>\n",
       "      <th>12</th>\n",
       "      <td>40</td>\n",
       "      <td>3</td>\n",
       "      <td>10.00</td>\n",
       "      <td>29</td>\n",
       "    </tr>\n",
       "    <tr>\n",
       "      <th>13</th>\n",
       "      <td>41</td>\n",
       "      <td>1</td>\n",
       "      <td>3.33</td>\n",
       "      <td>30</td>\n",
       "    </tr>\n",
       "  </tbody>\n",
       "</table>\n",
       "</div>"
      ],
      "text/plain": [
       "    Qtd de Cafés  Frequência Absoluta  Frequência Relativa (%)  \\\n",
       "0             28                    1                     3.33   \n",
       "1             29                    2                     6.67   \n",
       "2             30                    1                     3.33   \n",
       "3             31                    1                     3.33   \n",
       "4             32                    2                     6.67   \n",
       "5             33                    2                     6.67   \n",
       "6             34                    3                    10.00   \n",
       "7             35                    3                    10.00   \n",
       "8             36                    4                    13.33   \n",
       "9             37                    3                    10.00   \n",
       "10            38                    2                     6.67   \n",
       "11            39                    2                     6.67   \n",
       "12            40                    3                    10.00   \n",
       "13            41                    1                     3.33   \n",
       "\n",
       "    Frequência Acumulada  \n",
       "0                      1  \n",
       "1                      3  \n",
       "2                      4  \n",
       "3                      5  \n",
       "4                      7  \n",
       "5                      9  \n",
       "6                     12  \n",
       "7                     15  \n",
       "8                     19  \n",
       "9                     22  \n",
       "10                    24  \n",
       "11                    26  \n",
       "12                    29  \n",
       "13                    30  "
      ]
     },
     "execution_count": 5,
     "metadata": {},
     "output_type": "execute_result"
    }
   ],
   "source": [
    "# Tabela\n",
    "tabela_freq = pd.DataFrame({\n",
    "    \"Qtd de Cafés\": freq_abs.index,\n",
    "    \"Frequência Absoluta\": freq_abs.values,\n",
    "    \"Frequência Relativa (%)\": (freq_rel.values).round(2),\n",
    "    \"Frequência Acumulada\": freq_acum.values\n",
    "})\n",
    "\n",
    "tabela_freq.reset_index(drop=True, inplace=True)\n",
    "tabela_freq"
   ]
  },
  {
   "cell_type": "markdown",
   "id": "063a8f8a-2635-4451-a081-a061404f1120",
   "metadata": {},
   "source": [
    "## Perguntas:\n",
    "- Em quantos dias venderam menos que 30 cafés?\n",
    "- Qual a proporção de dias em que venderam 40 ou mais cafés?\n",
    "- Qual a frequência acumulada até 35 cafés?\n",
    "- Qual foi a quantidade de cafés mais vendida?\n",
    "- Quantos dias venderam entre 33 e 37 cafés (inclusive)?"
   ]
  },
  {
   "cell_type": "code",
   "execution_count": 6,
   "id": "139173d7-b0f4-42fe-8bc3-53235aff3fe9",
   "metadata": {},
   "outputs": [],
   "source": [
    "# Respostas\n",
    "\n",
    "p1 = (vendas < 30).sum()\n",
    "p2 = ((vendas >= 40).sum() / len(vendas)) * 100\n",
    "p3 = (vendas <= 35).sum()\n",
    "\n",
    "moda = stats.mode(vendas, keepdims=True)\n",
    "p4 = moda.mode[0]\n",
    "\n",
    "p5 = ((vendas >= 33) & (vendas <= 37)).sum()"
   ]
  },
  {
   "cell_type": "code",
   "execution_count": 9,
   "id": "b8c59b2c-00cf-4166-a36d-d7f2afc62796",
   "metadata": {},
   "outputs": [
    {
     "data": {
      "text/html": [
       "<div>\n",
       "<style scoped>\n",
       "    .dataframe tbody tr th:only-of-type {\n",
       "        vertical-align: middle;\n",
       "    }\n",
       "\n",
       "    .dataframe tbody tr th {\n",
       "        vertical-align: top;\n",
       "    }\n",
       "\n",
       "    .dataframe thead th {\n",
       "        text-align: right;\n",
       "    }\n",
       "</style>\n",
       "<table border=\"1\" class=\"dataframe\">\n",
       "  <thead>\n",
       "    <tr style=\"text-align: right;\">\n",
       "      <th></th>\n",
       "      <th>Dias com &lt; 30 cafés</th>\n",
       "      <th>Proporção com &gt;= 40 cafés (%)</th>\n",
       "      <th>Freq. acumulada até 35 cafés</th>\n",
       "      <th>Moda (qtd mais vendida)</th>\n",
       "      <th>Dias com vendas entre 33 e 37</th>\n",
       "    </tr>\n",
       "  </thead>\n",
       "  <tbody>\n",
       "    <tr>\n",
       "      <th>0</th>\n",
       "      <td>3</td>\n",
       "      <td>13.33</td>\n",
       "      <td>15</td>\n",
       "      <td>36</td>\n",
       "      <td>15</td>\n",
       "    </tr>\n",
       "  </tbody>\n",
       "</table>\n",
       "</div>"
      ],
      "text/plain": [
       "   Dias com < 30 cafés  Proporção com >= 40 cafés (%)  \\\n",
       "0                    3                          13.33   \n",
       "\n",
       "   Freq. acumulada até 35 cafés  Moda (qtd mais vendida)  \\\n",
       "0                            15                       36   \n",
       "\n",
       "   Dias com vendas entre 33 e 37  \n",
       "0                             15  "
      ]
     },
     "execution_count": 9,
     "metadata": {},
     "output_type": "execute_result"
    }
   ],
   "source": [
    "respostas = {\n",
    "    \"Dias com < 30 cafés\": p1,\n",
    "    \"Proporção com >= 40 cafés (%)\": round(p2, 2),\n",
    "    \"Freq. acumulada até 35 cafés\": p3,\n",
    "    \"Moda (qtd mais vendida)\": p4,\n",
    "    \"Dias com vendas entre 33 e 37\": p5\n",
    "}\n",
    "\n",
    "df_respostas = pd.DataFrame([respostas])\n",
    "df_respostas"
   ]
  },
  {
   "cell_type": "code",
   "execution_count": null,
   "id": "22e50f02-0484-4d97-9f25-6a5677b9ce60",
   "metadata": {},
   "outputs": [],
   "source": []
  },
  {
   "cell_type": "markdown",
   "id": "6ebb33f7-81df-46d1-82e1-1d903876fb85",
   "metadata": {},
   "source": [
    "# Queremos saber se a preferência por tipo de transporte (carro, ônibus ou bicicleta) é diferente entre dois bairros da cidade: Centro e Periferia.\n",
    "\n",
    "Hipótese $H_0$: Existe uma preferência por transporte diferente entre os bairros?"
   ]
  },
  {
   "cell_type": "code",
   "execution_count": 12,
   "id": "ef3dd49e-67c7-4aa0-9ad5-7e138ca0697f",
   "metadata": {},
   "outputs": [
    {
     "data": {
      "text/html": [
       "<div>\n",
       "<style scoped>\n",
       "    .dataframe tbody tr th:only-of-type {\n",
       "        vertical-align: middle;\n",
       "    }\n",
       "\n",
       "    .dataframe tbody tr th {\n",
       "        vertical-align: top;\n",
       "    }\n",
       "\n",
       "    .dataframe thead th {\n",
       "        text-align: right;\n",
       "    }\n",
       "</style>\n",
       "<table border=\"1\" class=\"dataframe\">\n",
       "  <thead>\n",
       "    <tr style=\"text-align: right;\">\n",
       "      <th></th>\n",
       "      <th>Bairro</th>\n",
       "      <th>Transporte</th>\n",
       "    </tr>\n",
       "  </thead>\n",
       "  <tbody>\n",
       "    <tr>\n",
       "      <th>0</th>\n",
       "      <td>Centro</td>\n",
       "      <td>Carro</td>\n",
       "    </tr>\n",
       "    <tr>\n",
       "      <th>1</th>\n",
       "      <td>Centro</td>\n",
       "      <td>Bicicleta</td>\n",
       "    </tr>\n",
       "    <tr>\n",
       "      <th>2</th>\n",
       "      <td>Centro</td>\n",
       "      <td>Ônibus</td>\n",
       "    </tr>\n",
       "    <tr>\n",
       "      <th>3</th>\n",
       "      <td>Centro</td>\n",
       "      <td>Ônibus</td>\n",
       "    </tr>\n",
       "    <tr>\n",
       "      <th>4</th>\n",
       "      <td>Centro</td>\n",
       "      <td>Carro</td>\n",
       "    </tr>\n",
       "  </tbody>\n",
       "</table>\n",
       "</div>"
      ],
      "text/plain": [
       "   Bairro Transporte\n",
       "0  Centro      Carro\n",
       "1  Centro  Bicicleta\n",
       "2  Centro     Ônibus\n",
       "3  Centro     Ônibus\n",
       "4  Centro      Carro"
      ]
     },
     "execution_count": 12,
     "metadata": {},
     "output_type": "execute_result"
    }
   ],
   "source": [
    "df = pd.read_csv('../hands_on/qui-quadrado/preferencia_transporte.csv')\n",
    "df.head()"
   ]
  },
  {
   "cell_type": "markdown",
   "id": "d6174ef9-e5eb-4930-a3a0-d3e94d335279",
   "metadata": {},
   "source": [
    "## Teste Qui-quadrado\n",
    "\n",
    "O teste de Qui-quadrado é um teste não paramétrico (teste estatístico não paramétrico cujo modelo não especifica condições sobre o parâmetro da população da qual a amostra é retirada). Muito utilizado para identificar a relação entre uma variável categórica e é denotado por **$\\chi^2$:**.\n",
    "\n",
    "$$\\chi^2 = \\sum_{i=1}^{n} \\frac{(O_i - E_i)^2}{E_i}$$\n",
    "\n",
    "**Onde:**\n",
    "\n",
    "   **$\\chi^2$:** Representa o valor calculado do Qui-Quadrado. Quanto maior esse valor, maior a discrepância entre as frequências observadas e esperadas, sugerindo uma maior probabilidade de associação.\n",
    "   \n",
    "   **$O_i$:** Corresponde à frequência observada em cada categoria ou célula da sua amostra de dados. São os dados reais que você coletou.\n",
    "    \n",
    "   **$E_i$:** Corresponde à frequência esperada para cada categoria ou célula, sob a hipótese de que não há associação (independência) entre as variáveis. Em outras palavras, é a frequência que esperaríamos ver se as variáveis fossem independentes.\n",
    "   \n",
    "   **$n$:** É o número total de categorias ou o número de células na sua tabela de contingência.\n",
    "\n",
    "   **$\\sum$:** Indica o somatório, significando que o cálculo $\\frac{(O_i - E_i)^2}{E_i}$ deve ser realizado para cada categoria (ou célula da tabela de contingência) e os resultados somados.\n",
    "\n",
    "\n",
    "**Problema:**\n",
    "Queremos saber se a preferência por tipo de transporte (carro, ônibus, bicicleta) é diferente entre dois bairros da cidade.\n",
    "\n",
    "“A escolha de transporte depende do bairro?”"
   ]
  },
  {
   "cell_type": "code",
   "execution_count": 24,
   "id": "56ccc9ae-be6e-4ac3-8709-6042696bed67",
   "metadata": {},
   "outputs": [
    {
     "data": {
      "text/html": [
       "<div>\n",
       "<style scoped>\n",
       "    .dataframe tbody tr th:only-of-type {\n",
       "        vertical-align: middle;\n",
       "    }\n",
       "\n",
       "    .dataframe tbody tr th {\n",
       "        vertical-align: top;\n",
       "    }\n",
       "\n",
       "    .dataframe thead th {\n",
       "        text-align: right;\n",
       "    }\n",
       "</style>\n",
       "<table border=\"1\" class=\"dataframe\">\n",
       "  <thead>\n",
       "    <tr style=\"text-align: right;\">\n",
       "      <th></th>\n",
       "      <th>Bairro</th>\n",
       "      <th>Transporte</th>\n",
       "    </tr>\n",
       "  </thead>\n",
       "  <tbody>\n",
       "    <tr>\n",
       "      <th>count</th>\n",
       "      <td>300</td>\n",
       "      <td>300</td>\n",
       "    </tr>\n",
       "    <tr>\n",
       "      <th>unique</th>\n",
       "      <td>2</td>\n",
       "      <td>3</td>\n",
       "    </tr>\n",
       "    <tr>\n",
       "      <th>top</th>\n",
       "      <td>Centro</td>\n",
       "      <td>Ônibus</td>\n",
       "    </tr>\n",
       "    <tr>\n",
       "      <th>freq</th>\n",
       "      <td>150</td>\n",
       "      <td>159</td>\n",
       "    </tr>\n",
       "  </tbody>\n",
       "</table>\n",
       "</div>"
      ],
      "text/plain": [
       "        Bairro Transporte\n",
       "count      300        300\n",
       "unique       2          3\n",
       "top     Centro     Ônibus\n",
       "freq       150        159"
      ]
     },
     "execution_count": 24,
     "metadata": {},
     "output_type": "execute_result"
    }
   ],
   "source": [
    "df.describe()"
   ]
  },
  {
   "cell_type": "code",
   "execution_count": 15,
   "id": "1259b50c-dfb7-4272-9966-58edd4e005e2",
   "metadata": {},
   "outputs": [
    {
     "data": {
      "text/html": [
       "<div>\n",
       "<style scoped>\n",
       "    .dataframe tbody tr th:only-of-type {\n",
       "        vertical-align: middle;\n",
       "    }\n",
       "\n",
       "    .dataframe tbody tr th {\n",
       "        vertical-align: top;\n",
       "    }\n",
       "\n",
       "    .dataframe thead th {\n",
       "        text-align: right;\n",
       "    }\n",
       "</style>\n",
       "<table border=\"1\" class=\"dataframe\">\n",
       "  <thead>\n",
       "    <tr style=\"text-align: right;\">\n",
       "      <th>Transporte</th>\n",
       "      <th>Bicicleta</th>\n",
       "      <th>Carro</th>\n",
       "      <th>Ônibus</th>\n",
       "    </tr>\n",
       "    <tr>\n",
       "      <th>Bairro</th>\n",
       "      <th></th>\n",
       "      <th></th>\n",
       "      <th></th>\n",
       "    </tr>\n",
       "  </thead>\n",
       "  <tbody>\n",
       "    <tr>\n",
       "      <th>Centro</th>\n",
       "      <td>22</td>\n",
       "      <td>75</td>\n",
       "      <td>53</td>\n",
       "    </tr>\n",
       "    <tr>\n",
       "      <th>Periferia</th>\n",
       "      <td>15</td>\n",
       "      <td>29</td>\n",
       "      <td>106</td>\n",
       "    </tr>\n",
       "  </tbody>\n",
       "</table>\n",
       "</div>"
      ],
      "text/plain": [
       "Transporte  Bicicleta  Carro  Ônibus\n",
       "Bairro                              \n",
       "Centro             22     75      53\n",
       "Periferia          15     29     106"
      ]
     },
     "execution_count": 15,
     "metadata": {},
     "output_type": "execute_result"
    }
   ],
   "source": [
    "# Tabela de contingência\n",
    "\n",
    "contingencia = pd.crosstab(df['Bairro'], df['Transporte'])\n",
    "contingencia"
   ]
  },
  {
   "cell_type": "code",
   "execution_count": null,
   "id": "e9f0ab2f-4a38-4ae1-aab2-b1e8028da530",
   "metadata": {},
   "outputs": [],
   "source": []
  },
  {
   "cell_type": "code",
   "execution_count": 19,
   "id": "80a85136-82a1-4128-87fb-f5ab640e5fec",
   "metadata": {},
   "outputs": [
    {
     "data": {
      "text/plain": [
       "<Figure size 800x600 with 0 Axes>"
      ]
     },
     "metadata": {},
     "output_type": "display_data"
    },
    {
     "data": {
      "image/png": "[encoded data removed]",
      "text/plain": [
       "<Figure size 640x480 with 1 Axes>"
      ]
     },
     "metadata": {},
     "output_type": "display_data"
    }
   ],
   "source": [
    "# Teste do Qui-quadrado\n",
    "\n",
    "chi2_full, p_full, dof_full, expected_full = stats.chi2_contingency(contingencia)\n",
    "\n",
    "# Plotando grafico agrupado\n",
    "plt.figure(figsize=(8, 6))\n",
    "contingencia.T.plot(kind='bar')\n",
    "plt.title(\"Preferência de Transporte por Bairro (n=300)\")\n",
    "plt.ylabel(\"número de Pessoas\")\n",
    "plt.xlabel(\"Tipo de Transporte\")\n",
    "plt.xticks(rotation=0)\n",
    "plt.grid(axis='y')\n",
    "plt.tight_layout()\n",
    "plt.show()"
   ]
  },
  {
   "cell_type": "code",
   "execution_count": 20,
   "id": "28626398-c5f2-45dd-9327-b8d167648486",
   "metadata": {},
   "outputs": [
    {
     "data": {
      "text/plain": [
       "array([[18.5, 52. , 79.5],\n",
       "       [18.5, 52. , 79.5]])"
      ]
     },
     "execution_count": 20,
     "metadata": {},
     "output_type": "execute_result"
    }
   ],
   "source": [
    "expected_full"
   ]
  },
  {
   "cell_type": "code",
   "execution_count": 21,
   "id": "355e3c31-2b0a-4d5c-b6d6-c8b7f9d82128",
   "metadata": {},
   "outputs": [
    {
     "data": {
      "text/plain": [
       "np.float64(39.337144837144834)"
      ]
     },
     "execution_count": 21,
     "metadata": {},
     "output_type": "execute_result"
    }
   ],
   "source": [
    "chi2_full"
   ]
  },
  {
   "cell_type": "code",
   "execution_count": 22,
   "id": "c481569c-bc8f-459d-acc4-b82995bf86aa",
   "metadata": {},
   "outputs": [
    {
     "data": {
      "text/plain": [
       "np.float64(2.8710947940467883e-09)"
      ]
     },
     "execution_count": 22,
     "metadata": {},
     "output_type": "execute_result"
    }
   ],
   "source": [
    "p_full"
   ]
  },
  {
   "cell_type": "code",
   "execution_count": 23,
   "id": "3138cca7-2d57-4f63-af0c-b4a81bd336a5",
   "metadata": {},
   "outputs": [
    {
     "data": {
      "text/plain": [
       "2"
      ]
     },
     "execution_count": 23,
     "metadata": {},
     "output_type": "execute_result"
    }
   ],
   "source": [
    "dof_full"
   ]
  },
  {
   "cell_type": "code",
   "execution_count": 25,
   "id": "db752810-8e77-43a5-a59b-6b432bf94fca",
   "metadata": {},
   "outputs": [
    {
     "data": {
      "text/plain": [
       "(Transporte  Bicicleta  Carro  Ônibus\n",
       " Bairro                              \n",
       " Centro             22     75      53\n",
       " Periferia          15     29     106,\n",
       " 'valor-p: 0.0000',\n",
       " 'Rejeita H0: Preferência por transporte diferente entre bairros')"
      ]
     },
     "execution_count": 25,
     "metadata": {},
     "output_type": "execute_result"
    }
   ],
   "source": [
    "# Conclusão:\n",
    "\n",
    "conclusao = (\n",
    "    \"Rejeita H0: Preferência por transporte diferente entre bairros\"\n",
    "    if p_full < 0.05 else\n",
    "    \"Não rejeitar H0: Sem diferença significativa entre os bairros\"\n",
    ")\n",
    "(contingencia, f\"valor-p: {p_full:.4f}\", conclusao)"
   ]
  },
  {
   "cell_type": "markdown",
   "id": "281e9fbe-3022-498c-ba41-e41a4f51bacf",
   "metadata": {},
   "source": [
    "## p-Value\n",
    "\n",
    "- O mundo pode ser dividido em dois estados: hipótese nula verdadeira e hipótese nula falsa;\n",
    "- Assumimos inicialmente que a hipótese nula é verdadeira;\n",
    "- Especificamos um modelo estatístico que mostra a probabilidade de diferentes resultados sob a hipótese nula;\n",
    "- Definimos um nível de significância para determinar quando devemos nos surpreender;\n",
    "- Coletamos dados e calculamos o valor de p;\n",
    "- Comparamos o valor de p com o alfa para decidir se rejeitamos ou não a hipótese nula. Se p for menor ou igual ao alfa, rejeitamos a hipótese nula. Se p for maior que alfa, não rejeitamos a hipótese nula."
   ]
  },
  {
   "cell_type": "code",
   "execution_count": 27,
   "id": "9df0c48f-48a7-4dc2-83c7-b2e645100a62",
   "metadata": {},
   "outputs": [
    {
     "name": "stdout",
     "output_type": "stream",
     "text": [
      "P-Value:  2.8710948063448427e-09\n",
      "Saída formatada:  0,00000000000000000287\n"
     ]
    }
   ],
   "source": [
    "from scipy.stats import chi2\n",
    "\n",
    "# Calcular o p-valor com a distribuição Qui-quadrado\n",
    "valor_chi2 = chi2_full\n",
    "df = dof_full\n",
    "p_value = 1 - chi2.cdf(valor_chi2, df)\n",
    "\n",
    "p2 = p_value * (10**(-9))\n",
    "saida_formatada = \"{:,.20f}\".format(p2).replace(\",\",\"x\").replace(\".\",\",\").replace(\"x\",\",\")\n",
    "\n",
    "print('P-Value: ', p_value)\n",
    "print('Saída formatada: ',saida_formatada)"
   ]
  },
  {
   "cell_type": "markdown",
   "id": "d25a3417-8de2-441e-964c-239c4677f579",
   "metadata": {},
   "source": [
    "## Replicando essa mesma análise.\n",
    "\n",
    "Uma empresa com funcionários distribuídos em dois turnos (Manhã e Noite), está interessada em verificar se existe uma associação entre o turno de trabalho e o tipo de refei'ão preferida no refeitório da empresa.\n",
    "\n",
    "Encontre qual será sua Hipótese nula $H_0$ e apresente se a mesma deve ser aceita ou rejeitada."
   ]
  },
  {
   "cell_type": "markdown",
   "id": "f3e43dce-f256-4852-b4c5-fd53ad24348c",
   "metadata": {},
   "source": [
    "## Problema 2: Nivel de satisfação com ensino remoto por curso.\n",
    "\n",
    "Apresente o resultado de sua análise."
   ]
  },
  {
   "cell_type": "code",
   "execution_count": null,
   "id": "5fba9db3-cf35-4499-bef0-129814fd1798",
   "metadata": {},
   "outputs": [
    {
     "name": "stdout",
     "output_type": "stream",
     "text": [
      "/Users/claytonpereira/Aulas_Unesp/ds/aulas25/DS_Unesp/aulas/exemplos\n"
     ]
    }
   ],
   "source": [
    "!pwd"
   ]
  },
  {
   "cell_type": "code",
   "execution_count": null,
   "id": "a98f7735-7e75-4ca7-b90d-a89c99ba7be3",
   "metadata": {},
   "outputs": [],
   "source": []
  }
 ],
 "metadata": {
  "kernelspec": {
   "display_name": "Python 3 (ipykernel)",
   "language": "python",
   "name": "python3"
  },
  "language_info": {
   "codemirror_mode": {
    "name": "ipython",
    "version": 3
   },
   "file_extension": ".py",
   "mimetype": "text/x-python",
   "name": "python",
   "nbconvert_exporter": "python",
   "pygments_lexer": "ipython3",
   "version": "3.12.2"
  }
 },
 "nbformat": 4,
 "nbformat_minor": 5
}
